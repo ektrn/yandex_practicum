{
 "cells": [
  {
   "cell_type": "markdown",
   "metadata": {},
   "source": [
    "# \"Метанпромбанк\" — Анализ оттока клиентов"
   ]
  },
  {
   "cell_type": "markdown",
   "metadata": {},
   "source": [
    "# Материалы <a class=\"anchor\" id=\"0\"></a>\n",
    "* [Презентация](https://disk.yandex.ru/i/hNWdKWPzfmKMzg)\n",
    "* [Дашборд](https://public.tableau.com/views/BanksProjectYandex/Dashboard1?:language=en-US&publish=yes&:display_count=n&:origin=viz_share_link)"
   ]
  },
  {
   "cell_type": "markdown",
   "metadata": {},
   "source": [
    "**Заказчик:** отдел маркетинга <br/>\n",
    "\n",
    "**Задача:** максимально эффективно выделить сегменты отточных клиентов, чтобы они были однородными, высокоотточными и покрывали максимум проблемных зон банка"
   ]
  },
  {
   "cell_type": "markdown",
   "metadata": {},
   "source": [
    "# Описание датасета\n",
    "\n",
    "Датасет содержит данные о клиентах банка «Метанпром». Банк располагается в Ярославле и областных городах: Ростов Великий и Рыбинск.\n",
    "\n",
    "Колонки:\n",
    "\n",
    "- `userid` — идентификатор пользователя,\n",
    "- `score` — баллы кредитного скоринга,\n",
    "- `City` — город,\n",
    "- `Gender` — пол,\n",
    "- `Age` — возраст,\n",
    "- `Objects` — количество объектов в собственности,\n",
    "- `Balance` — баланс на счёте,\n",
    "- `Products` — количество продуктов, которыми пользуется клиент,\n",
    "- `CreditCard` — есть ли кредитная карта,\n",
    "- `Loyalty` — активный клиент,\n",
    "- `estimated_salary` — заработная плата клиента,\n",
    "- `Churn` — ушёл или нет."
   ]
  },
  {
   "cell_type": "markdown",
   "metadata": {},
   "source": [
    "# Декомпозиция задачи"
   ]
  },
  {
   "cell_type": "markdown",
   "metadata": {},
   "source": [
    "1. [Загрузка данных и ознакомление с ними](#1)\n",
    "2. [Предобработка данных](#2)\n",
    "    1. [Проверка названий столбцов](#2.1)\n",
    "    2. [Проверка на пропуски](#2.2)\n",
    "    3. [Проверка на дубликаты](#2.3)\n",
    "    4. [One-hot кодирование неупорядоченных категориальных данных](#2.4)\n",
    "3. [Исследовательский анализ данных](#3)\n",
    "    1. [Графики распределения](#3.1)\n",
    "    2. [Составление портретов клиентов](#3.2)\n",
    "    3. [Корреляционный анализ](#3.3)\n",
    "4. [Проверка статистических гипотез](#4)\n",
    "    1. [Гипотеза 1: \"Есть различия в доходе отточных клиентов и текущих\"](#4.1)\n",
    "    2. [Гипотеза 2: \"Есть различия в возрасте отточных клиентов и текущих\"](#4.2)\n",
    "5. [Промежуточный вывод о том, какие показатели стратегически влияют на отток](#5)\n",
    "6. [Сегментация на основе стратегических показателей](#6)\n",
    "    1. [Приоритезация сегментов](#6.1)\n",
    "7. [Выводы и рекомендации по конкретным сегментам для заказчика](#7)\n",
    "8. [Общий вывод](#8)\n",
    "9. [Подготовка презентации](#0)\n",
    "10. [Составление дашборда](#0)"
   ]
  },
  {
   "cell_type": "markdown",
   "metadata": {},
   "source": [
    "## Загрузка данных и ознакомление с ними <a class=\"anchor\" id=\"1\"></a>"
   ]
  },
  {
   "cell_type": "code",
   "execution_count": 1,
   "metadata": {},
   "outputs": [],
   "source": [
    "import pandas as pd\n",
    "import matplotlib.pyplot as plt\n",
    "import seaborn as sns\n",
    "from scipy import stats as st\n",
    "import plotly.graph_objects as go\n",
    "import plotly.express as px"
   ]
  },
  {
   "cell_type": "code",
   "execution_count": 2,
   "metadata": {},
   "outputs": [],
   "source": [
    "try:\n",
    "    data = pd.read_csv('/datasets/bank_dataset.csv')\n",
    "except:\n",
    "    data = pd.read_csv('https://yadi.sk/d/JVAJ9uxtV1uydQ')"
   ]
  },
  {
   "cell_type": "code",
   "execution_count": 3,
   "metadata": {},
   "outputs": [
    {
     "data": {
      "text/html": [
       "<div>\n",
       "<style scoped>\n",
       "    .dataframe tbody tr th:only-of-type {\n",
       "        vertical-align: middle;\n",
       "    }\n",
       "\n",
       "    .dataframe tbody tr th {\n",
       "        vertical-align: top;\n",
       "    }\n",
       "\n",
       "    .dataframe thead th {\n",
       "        text-align: right;\n",
       "    }\n",
       "</style>\n",
       "<table border=\"1\" class=\"dataframe\">\n",
       "  <thead>\n",
       "    <tr style=\"text-align: right;\">\n",
       "      <th></th>\n",
       "      <th>userid</th>\n",
       "      <th>score</th>\n",
       "      <th>City</th>\n",
       "      <th>Gender</th>\n",
       "      <th>Age</th>\n",
       "      <th>Objects</th>\n",
       "      <th>Balance</th>\n",
       "      <th>Products</th>\n",
       "      <th>CreditCard</th>\n",
       "      <th>Loyalty</th>\n",
       "      <th>estimated_salary</th>\n",
       "      <th>Churn</th>\n",
       "    </tr>\n",
       "  </thead>\n",
       "  <tbody>\n",
       "    <tr>\n",
       "      <th>0</th>\n",
       "      <td>15677338</td>\n",
       "      <td>619</td>\n",
       "      <td>Ярославль</td>\n",
       "      <td>Ж</td>\n",
       "      <td>42</td>\n",
       "      <td>2</td>\n",
       "      <td>NaN</td>\n",
       "      <td>1</td>\n",
       "      <td>1</td>\n",
       "      <td>1</td>\n",
       "      <td>101348.88</td>\n",
       "      <td>1</td>\n",
       "    </tr>\n",
       "    <tr>\n",
       "      <th>1</th>\n",
       "      <td>15690047</td>\n",
       "      <td>608</td>\n",
       "      <td>Рыбинск</td>\n",
       "      <td>Ж</td>\n",
       "      <td>41</td>\n",
       "      <td>1</td>\n",
       "      <td>83807.86</td>\n",
       "      <td>1</td>\n",
       "      <td>0</td>\n",
       "      <td>1</td>\n",
       "      <td>112542.58</td>\n",
       "      <td>0</td>\n",
       "    </tr>\n",
       "    <tr>\n",
       "      <th>2</th>\n",
       "      <td>15662040</td>\n",
       "      <td>502</td>\n",
       "      <td>Ярославль</td>\n",
       "      <td>Ж</td>\n",
       "      <td>42</td>\n",
       "      <td>8</td>\n",
       "      <td>159660.80</td>\n",
       "      <td>3</td>\n",
       "      <td>1</td>\n",
       "      <td>0</td>\n",
       "      <td>113931.57</td>\n",
       "      <td>1</td>\n",
       "    </tr>\n",
       "    <tr>\n",
       "      <th>3</th>\n",
       "      <td>15744090</td>\n",
       "      <td>699</td>\n",
       "      <td>Ярославль</td>\n",
       "      <td>Ж</td>\n",
       "      <td>39</td>\n",
       "      <td>1</td>\n",
       "      <td>NaN</td>\n",
       "      <td>2</td>\n",
       "      <td>0</td>\n",
       "      <td>0</td>\n",
       "      <td>93826.63</td>\n",
       "      <td>0</td>\n",
       "    </tr>\n",
       "    <tr>\n",
       "      <th>4</th>\n",
       "      <td>15780624</td>\n",
       "      <td>850</td>\n",
       "      <td>Рыбинск</td>\n",
       "      <td>Ж</td>\n",
       "      <td>43</td>\n",
       "      <td>2</td>\n",
       "      <td>125510.82</td>\n",
       "      <td>1</td>\n",
       "      <td>1</td>\n",
       "      <td>1</td>\n",
       "      <td>79084.10</td>\n",
       "      <td>0</td>\n",
       "    </tr>\n",
       "  </tbody>\n",
       "</table>\n",
       "</div>"
      ],
      "text/plain": [
       "     userid  score       City Gender  Age  Objects    Balance  Products  \\\n",
       "0  15677338    619  Ярославль      Ж   42        2        NaN         1   \n",
       "1  15690047    608    Рыбинск      Ж   41        1   83807.86         1   \n",
       "2  15662040    502  Ярославль      Ж   42        8  159660.80         3   \n",
       "3  15744090    699  Ярославль      Ж   39        1        NaN         2   \n",
       "4  15780624    850    Рыбинск      Ж   43        2  125510.82         1   \n",
       "\n",
       "   CreditCard  Loyalty  estimated_salary  Churn  \n",
       "0           1        1         101348.88      1  \n",
       "1           0        1         112542.58      0  \n",
       "2           1        0         113931.57      1  \n",
       "3           0        0          93826.63      0  \n",
       "4           1        1          79084.10      0  "
      ]
     },
     "execution_count": 3,
     "metadata": {},
     "output_type": "execute_result"
    }
   ],
   "source": [
    "data.head()"
   ]
  },
  {
   "cell_type": "markdown",
   "metadata": {},
   "source": [
    "## Предобработка данных <a class=\"anchor\" id=\"2\"></a>"
   ]
  },
  {
   "cell_type": "code",
   "execution_count": 4,
   "metadata": {},
   "outputs": [
    {
     "name": "stdout",
     "output_type": "stream",
     "text": [
      "<class 'pandas.core.frame.DataFrame'>\n",
      "RangeIndex: 10000 entries, 0 to 9999\n",
      "Data columns (total 12 columns):\n",
      " #   Column            Non-Null Count  Dtype  \n",
      "---  ------            --------------  -----  \n",
      " 0   userid            10000 non-null  int64  \n",
      " 1   score             10000 non-null  int64  \n",
      " 2   City              10000 non-null  object \n",
      " 3   Gender            10000 non-null  object \n",
      " 4   Age               10000 non-null  int64  \n",
      " 5   Objects           10000 non-null  int64  \n",
      " 6   Balance           6383 non-null   float64\n",
      " 7   Products          10000 non-null  int64  \n",
      " 8   CreditCard        10000 non-null  int64  \n",
      " 9   Loyalty           10000 non-null  int64  \n",
      " 10  estimated_salary  10000 non-null  float64\n",
      " 11  Churn             10000 non-null  int64  \n",
      "dtypes: float64(2), int64(8), object(2)\n",
      "memory usage: 937.6+ KB\n"
     ]
    }
   ],
   "source": [
    "data.info()"
   ]
  },
  {
   "cell_type": "markdown",
   "metadata": {},
   "source": [
    "### Проверка названий столбцов <a class=\"anchor\" id=\"2.1\"></a>"
   ]
  },
  {
   "cell_type": "code",
   "execution_count": 5,
   "metadata": {},
   "outputs": [],
   "source": [
    "data.columns = map(str.lower, data.columns)\n",
    "data = data.rename(columns={'userid': 'user_id', 'creditcard':'credit_card'})"
   ]
  },
  {
   "cell_type": "code",
   "execution_count": 6,
   "metadata": {},
   "outputs": [
    {
     "name": "stdout",
     "output_type": "stream",
     "text": [
      "<class 'pandas.core.frame.DataFrame'>\n",
      "RangeIndex: 10000 entries, 0 to 9999\n",
      "Data columns (total 12 columns):\n",
      " #   Column            Non-Null Count  Dtype  \n",
      "---  ------            --------------  -----  \n",
      " 0   user_id           10000 non-null  int64  \n",
      " 1   score             10000 non-null  int64  \n",
      " 2   city              10000 non-null  object \n",
      " 3   gender            10000 non-null  object \n",
      " 4   age               10000 non-null  int64  \n",
      " 5   objects           10000 non-null  int64  \n",
      " 6   balance           6383 non-null   float64\n",
      " 7   products          10000 non-null  int64  \n",
      " 8   credit_card       10000 non-null  int64  \n",
      " 9   loyalty           10000 non-null  int64  \n",
      " 10  estimated_salary  10000 non-null  float64\n",
      " 11  churn             10000 non-null  int64  \n",
      "dtypes: float64(2), int64(8), object(2)\n",
      "memory usage: 937.6+ KB\n"
     ]
    }
   ],
   "source": [
    "data.info()"
   ]
  },
  {
   "cell_type": "markdown",
   "metadata": {},
   "source": [
    "### Проверка на пропуски <a class=\"anchor\" id=\"2.2\"></a>"
   ]
  },
  {
   "cell_type": "code",
   "execution_count": 7,
   "metadata": {},
   "outputs": [
    {
     "data": {
      "text/plain": [
       "user_id                0\n",
       "score                  0\n",
       "city                   0\n",
       "gender                 0\n",
       "age                    0\n",
       "objects                0\n",
       "balance             3617\n",
       "products               0\n",
       "credit_card            0\n",
       "loyalty                0\n",
       "estimated_salary       0\n",
       "churn                  0\n",
       "dtype: int64"
      ]
     },
     "execution_count": 7,
     "metadata": {},
     "output_type": "execute_result"
    }
   ],
   "source": [
    "data.isna().sum()"
   ]
  },
  {
   "cell_type": "markdown",
   "metadata": {},
   "source": [
    "В датасете 10000 записей. 3617 пропусков в столбце `Balance`. Скорее всего, пропуск означает, что у клиента на счете нет денег. Значит, заменим пропуски на `0`."
   ]
  },
  {
   "cell_type": "code",
   "execution_count": 8,
   "metadata": {},
   "outputs": [
    {
     "data": {
      "text/html": [
       "<div>\n",
       "<style scoped>\n",
       "    .dataframe tbody tr th:only-of-type {\n",
       "        vertical-align: middle;\n",
       "    }\n",
       "\n",
       "    .dataframe tbody tr th {\n",
       "        vertical-align: top;\n",
       "    }\n",
       "\n",
       "    .dataframe thead th {\n",
       "        text-align: right;\n",
       "    }\n",
       "</style>\n",
       "<table border=\"1\" class=\"dataframe\">\n",
       "  <thead>\n",
       "    <tr style=\"text-align: right;\">\n",
       "      <th></th>\n",
       "      <th>user_id</th>\n",
       "      <th>score</th>\n",
       "      <th>city</th>\n",
       "      <th>gender</th>\n",
       "      <th>age</th>\n",
       "      <th>objects</th>\n",
       "      <th>balance</th>\n",
       "      <th>products</th>\n",
       "      <th>credit_card</th>\n",
       "      <th>loyalty</th>\n",
       "      <th>estimated_salary</th>\n",
       "      <th>churn</th>\n",
       "    </tr>\n",
       "  </thead>\n",
       "  <tbody>\n",
       "    <tr>\n",
       "      <th>0</th>\n",
       "      <td>15677338</td>\n",
       "      <td>619</td>\n",
       "      <td>Ярославль</td>\n",
       "      <td>Ж</td>\n",
       "      <td>42</td>\n",
       "      <td>2</td>\n",
       "      <td>NaN</td>\n",
       "      <td>1</td>\n",
       "      <td>1</td>\n",
       "      <td>1</td>\n",
       "      <td>101348.88</td>\n",
       "      <td>1</td>\n",
       "    </tr>\n",
       "    <tr>\n",
       "      <th>3</th>\n",
       "      <td>15744090</td>\n",
       "      <td>699</td>\n",
       "      <td>Ярославль</td>\n",
       "      <td>Ж</td>\n",
       "      <td>39</td>\n",
       "      <td>1</td>\n",
       "      <td>NaN</td>\n",
       "      <td>2</td>\n",
       "      <td>0</td>\n",
       "      <td>0</td>\n",
       "      <td>93826.63</td>\n",
       "      <td>0</td>\n",
       "    </tr>\n",
       "    <tr>\n",
       "      <th>6</th>\n",
       "      <td>15635267</td>\n",
       "      <td>822</td>\n",
       "      <td>Ярославль</td>\n",
       "      <td>М</td>\n",
       "      <td>50</td>\n",
       "      <td>7</td>\n",
       "      <td>NaN</td>\n",
       "      <td>2</td>\n",
       "      <td>1</td>\n",
       "      <td>1</td>\n",
       "      <td>10062.80</td>\n",
       "      <td>0</td>\n",
       "    </tr>\n",
       "    <tr>\n",
       "      <th>11</th>\n",
       "      <td>15779909</td>\n",
       "      <td>497</td>\n",
       "      <td>Рыбинск</td>\n",
       "      <td>М</td>\n",
       "      <td>24</td>\n",
       "      <td>3</td>\n",
       "      <td>NaN</td>\n",
       "      <td>2</td>\n",
       "      <td>1</td>\n",
       "      <td>0</td>\n",
       "      <td>76390.01</td>\n",
       "      <td>0</td>\n",
       "    </tr>\n",
       "    <tr>\n",
       "      <th>12</th>\n",
       "      <td>15675000</td>\n",
       "      <td>476</td>\n",
       "      <td>Ярославль</td>\n",
       "      <td>Ж</td>\n",
       "      <td>34</td>\n",
       "      <td>10</td>\n",
       "      <td>NaN</td>\n",
       "      <td>2</td>\n",
       "      <td>1</td>\n",
       "      <td>0</td>\n",
       "      <td>26260.98</td>\n",
       "      <td>0</td>\n",
       "    </tr>\n",
       "    <tr>\n",
       "      <th>...</th>\n",
       "      <td>...</td>\n",
       "      <td>...</td>\n",
       "      <td>...</td>\n",
       "      <td>...</td>\n",
       "      <td>...</td>\n",
       "      <td>...</td>\n",
       "      <td>...</td>\n",
       "      <td>...</td>\n",
       "      <td>...</td>\n",
       "      <td>...</td>\n",
       "      <td>...</td>\n",
       "      <td>...</td>\n",
       "    </tr>\n",
       "    <tr>\n",
       "      <th>9989</th>\n",
       "      <td>15648358</td>\n",
       "      <td>841</td>\n",
       "      <td>Рыбинск</td>\n",
       "      <td>М</td>\n",
       "      <td>28</td>\n",
       "      <td>4</td>\n",
       "      <td>NaN</td>\n",
       "      <td>2</td>\n",
       "      <td>1</td>\n",
       "      <td>1</td>\n",
       "      <td>179436.60</td>\n",
       "      <td>0</td>\n",
       "    </tr>\n",
       "    <tr>\n",
       "      <th>9992</th>\n",
       "      <td>15699841</td>\n",
       "      <td>726</td>\n",
       "      <td>Рыбинск</td>\n",
       "      <td>М</td>\n",
       "      <td>36</td>\n",
       "      <td>2</td>\n",
       "      <td>NaN</td>\n",
       "      <td>1</td>\n",
       "      <td>1</td>\n",
       "      <td>0</td>\n",
       "      <td>195192.40</td>\n",
       "      <td>0</td>\n",
       "    </tr>\n",
       "    <tr>\n",
       "      <th>9994</th>\n",
       "      <td>15762030</td>\n",
       "      <td>800</td>\n",
       "      <td>Ярославль</td>\n",
       "      <td>Ж</td>\n",
       "      <td>29</td>\n",
       "      <td>2</td>\n",
       "      <td>NaN</td>\n",
       "      <td>2</td>\n",
       "      <td>0</td>\n",
       "      <td>0</td>\n",
       "      <td>167773.55</td>\n",
       "      <td>0</td>\n",
       "    </tr>\n",
       "    <tr>\n",
       "      <th>9995</th>\n",
       "      <td>15648965</td>\n",
       "      <td>771</td>\n",
       "      <td>Ярославль</td>\n",
       "      <td>М</td>\n",
       "      <td>39</td>\n",
       "      <td>5</td>\n",
       "      <td>NaN</td>\n",
       "      <td>2</td>\n",
       "      <td>1</td>\n",
       "      <td>0</td>\n",
       "      <td>96270.64</td>\n",
       "      <td>0</td>\n",
       "    </tr>\n",
       "    <tr>\n",
       "      <th>9997</th>\n",
       "      <td>15627268</td>\n",
       "      <td>709</td>\n",
       "      <td>Ярославль</td>\n",
       "      <td>Ж</td>\n",
       "      <td>36</td>\n",
       "      <td>7</td>\n",
       "      <td>NaN</td>\n",
       "      <td>1</td>\n",
       "      <td>0</td>\n",
       "      <td>1</td>\n",
       "      <td>42085.58</td>\n",
       "      <td>1</td>\n",
       "    </tr>\n",
       "  </tbody>\n",
       "</table>\n",
       "<p>3617 rows × 12 columns</p>\n",
       "</div>"
      ],
      "text/plain": [
       "       user_id  score       city gender  age  objects  balance  products  \\\n",
       "0     15677338    619  Ярославль      Ж   42        2      NaN         1   \n",
       "3     15744090    699  Ярославль      Ж   39        1      NaN         2   \n",
       "6     15635267    822  Ярославль      М   50        7      NaN         2   \n",
       "11    15779909    497    Рыбинск      М   24        3      NaN         2   \n",
       "12    15675000    476  Ярославль      Ж   34       10      NaN         2   \n",
       "...        ...    ...        ...    ...  ...      ...      ...       ...   \n",
       "9989  15648358    841    Рыбинск      М   28        4      NaN         2   \n",
       "9992  15699841    726    Рыбинск      М   36        2      NaN         1   \n",
       "9994  15762030    800  Ярославль      Ж   29        2      NaN         2   \n",
       "9995  15648965    771  Ярославль      М   39        5      NaN         2   \n",
       "9997  15627268    709  Ярославль      Ж   36        7      NaN         1   \n",
       "\n",
       "      credit_card  loyalty  estimated_salary  churn  \n",
       "0               1        1         101348.88      1  \n",
       "3               0        0          93826.63      0  \n",
       "6               1        1          10062.80      0  \n",
       "11              1        0          76390.01      0  \n",
       "12              1        0          26260.98      0  \n",
       "...           ...      ...               ...    ...  \n",
       "9989            1        1         179436.60      0  \n",
       "9992            1        0         195192.40      0  \n",
       "9994            0        0         167773.55      0  \n",
       "9995            1        0          96270.64      0  \n",
       "9997            0        1          42085.58      1  \n",
       "\n",
       "[3617 rows x 12 columns]"
      ]
     },
     "execution_count": 8,
     "metadata": {},
     "output_type": "execute_result"
    }
   ],
   "source": [
    "data_null = data.query('balance.isna()')\n",
    "data_null"
   ]
  },
  {
   "cell_type": "code",
   "execution_count": 9,
   "metadata": {},
   "outputs": [
    {
     "data": {
      "image/png": "[encoded data removed]",
      "text/plain": [
       "<Figure size 1080x504 with 1 Axes>"
      ]
     },
     "metadata": {
      "needs_background": "light"
     },
     "output_type": "display_data"
    }
   ],
   "source": [
    "plt.figure(figsize=(15, 7))\n",
    "sns.barplot(x='city', \n",
    "            y='user_id', \n",
    "            data=data_null.groupby(['city', 'churn'], as_index=False)[['user_id']].count(), \n",
    "            hue='churn')\n",
    "plt.title('Распределение клиентов с пропуском в балансе по городам в зависимости от оттока')\n",
    "plt.xlabel('Город')\n",
    "plt.ylabel('Количество клиентов')\n",
    "plt.legend(loc='upper right', fontsize=10)\n",
    "plt.grid()\n",
    "plt.show()"
   ]
  },
  {
   "cell_type": "markdown",
   "metadata": {},
   "source": [
    "Можно заметить, что нет клиентов с пропуском в балансе в городе Ростов Великий. Возможно, в этом городе не предоставляются услуги, как в остальных городах, подразумевающие возможность не пополнять баланс."
   ]
  },
  {
   "cell_type": "code",
   "execution_count": 10,
   "metadata": {},
   "outputs": [],
   "source": [
    "data['balance'] = data['balance'].fillna(0)"
   ]
  },
  {
   "cell_type": "code",
   "execution_count": 11,
   "metadata": {},
   "outputs": [
    {
     "data": {
      "text/html": [
       "<div>\n",
       "<style scoped>\n",
       "    .dataframe tbody tr th:only-of-type {\n",
       "        vertical-align: middle;\n",
       "    }\n",
       "\n",
       "    .dataframe tbody tr th {\n",
       "        vertical-align: top;\n",
       "    }\n",
       "\n",
       "    .dataframe thead th {\n",
       "        text-align: right;\n",
       "    }\n",
       "</style>\n",
       "<table border=\"1\" class=\"dataframe\">\n",
       "  <thead>\n",
       "    <tr style=\"text-align: right;\">\n",
       "      <th></th>\n",
       "      <th>user_id</th>\n",
       "      <th>score</th>\n",
       "      <th>city</th>\n",
       "      <th>gender</th>\n",
       "      <th>age</th>\n",
       "      <th>objects</th>\n",
       "      <th>balance</th>\n",
       "      <th>products</th>\n",
       "      <th>credit_card</th>\n",
       "      <th>loyalty</th>\n",
       "      <th>estimated_salary</th>\n",
       "      <th>churn</th>\n",
       "    </tr>\n",
       "  </thead>\n",
       "  <tbody>\n",
       "    <tr>\n",
       "      <th>0</th>\n",
       "      <td>15677338</td>\n",
       "      <td>619</td>\n",
       "      <td>Ярославль</td>\n",
       "      <td>Ж</td>\n",
       "      <td>42</td>\n",
       "      <td>2</td>\n",
       "      <td>0.00</td>\n",
       "      <td>1</td>\n",
       "      <td>1</td>\n",
       "      <td>1</td>\n",
       "      <td>101348.88</td>\n",
       "      <td>1</td>\n",
       "    </tr>\n",
       "    <tr>\n",
       "      <th>1</th>\n",
       "      <td>15690047</td>\n",
       "      <td>608</td>\n",
       "      <td>Рыбинск</td>\n",
       "      <td>Ж</td>\n",
       "      <td>41</td>\n",
       "      <td>1</td>\n",
       "      <td>83807.86</td>\n",
       "      <td>1</td>\n",
       "      <td>0</td>\n",
       "      <td>1</td>\n",
       "      <td>112542.58</td>\n",
       "      <td>0</td>\n",
       "    </tr>\n",
       "    <tr>\n",
       "      <th>2</th>\n",
       "      <td>15662040</td>\n",
       "      <td>502</td>\n",
       "      <td>Ярославль</td>\n",
       "      <td>Ж</td>\n",
       "      <td>42</td>\n",
       "      <td>8</td>\n",
       "      <td>159660.80</td>\n",
       "      <td>3</td>\n",
       "      <td>1</td>\n",
       "      <td>0</td>\n",
       "      <td>113931.57</td>\n",
       "      <td>1</td>\n",
       "    </tr>\n",
       "    <tr>\n",
       "      <th>3</th>\n",
       "      <td>15744090</td>\n",
       "      <td>699</td>\n",
       "      <td>Ярославль</td>\n",
       "      <td>Ж</td>\n",
       "      <td>39</td>\n",
       "      <td>1</td>\n",
       "      <td>0.00</td>\n",
       "      <td>2</td>\n",
       "      <td>0</td>\n",
       "      <td>0</td>\n",
       "      <td>93826.63</td>\n",
       "      <td>0</td>\n",
       "    </tr>\n",
       "    <tr>\n",
       "      <th>4</th>\n",
       "      <td>15780624</td>\n",
       "      <td>850</td>\n",
       "      <td>Рыбинск</td>\n",
       "      <td>Ж</td>\n",
       "      <td>43</td>\n",
       "      <td>2</td>\n",
       "      <td>125510.82</td>\n",
       "      <td>1</td>\n",
       "      <td>1</td>\n",
       "      <td>1</td>\n",
       "      <td>79084.10</td>\n",
       "      <td>0</td>\n",
       "    </tr>\n",
       "  </tbody>\n",
       "</table>\n",
       "</div>"
      ],
      "text/plain": [
       "    user_id  score       city gender  age  objects    balance  products  \\\n",
       "0  15677338    619  Ярославль      Ж   42        2       0.00         1   \n",
       "1  15690047    608    Рыбинск      Ж   41        1   83807.86         1   \n",
       "2  15662040    502  Ярославль      Ж   42        8  159660.80         3   \n",
       "3  15744090    699  Ярославль      Ж   39        1       0.00         2   \n",
       "4  15780624    850    Рыбинск      Ж   43        2  125510.82         1   \n",
       "\n",
       "   credit_card  loyalty  estimated_salary  churn  \n",
       "0            1        1         101348.88      1  \n",
       "1            0        1         112542.58      0  \n",
       "2            1        0         113931.57      1  \n",
       "3            0        0          93826.63      0  \n",
       "4            1        1          79084.10      0  "
      ]
     },
     "execution_count": 11,
     "metadata": {},
     "output_type": "execute_result"
    }
   ],
   "source": [
    "data.head()"
   ]
  },
  {
   "cell_type": "markdown",
   "metadata": {},
   "source": [
    "### Проверка на дубликаты <a class=\"anchor\" id=\"2.3\"></a>"
   ]
  },
  {
   "cell_type": "code",
   "execution_count": 12,
   "metadata": {},
   "outputs": [
    {
     "data": {
      "text/plain": [
       "0"
      ]
     },
     "execution_count": 12,
     "metadata": {},
     "output_type": "execute_result"
    }
   ],
   "source": [
    "data.duplicated().sum()"
   ]
  },
  {
   "cell_type": "markdown",
   "metadata": {},
   "source": [
    "Дубликатов нет. Можно приступать к перекодированию неупорядоченных категориальных данных."
   ]
  },
  {
   "cell_type": "markdown",
   "metadata": {},
   "source": [
    "### One-hot кодирование столбцов <a class=\"anchor\" id=\"2.4\"></a>"
   ]
  },
  {
   "cell_type": "code",
   "execution_count": 13,
   "metadata": {},
   "outputs": [
    {
     "data": {
      "text/plain": [
       "array(['Ж', 'М'], dtype=object)"
      ]
     },
     "execution_count": 13,
     "metadata": {},
     "output_type": "execute_result"
    }
   ],
   "source": [
    "data['gender'].unique()"
   ]
  },
  {
   "cell_type": "code",
   "execution_count": 14,
   "metadata": {},
   "outputs": [],
   "source": [
    "data_onehot = pd.get_dummies(data[['city', 'gender']], dtype=int)"
   ]
  },
  {
   "cell_type": "code",
   "execution_count": 15,
   "metadata": {},
   "outputs": [
    {
     "data": {
      "text/html": [
       "<div>\n",
       "<style scoped>\n",
       "    .dataframe tbody tr th:only-of-type {\n",
       "        vertical-align: middle;\n",
       "    }\n",
       "\n",
       "    .dataframe tbody tr th {\n",
       "        vertical-align: top;\n",
       "    }\n",
       "\n",
       "    .dataframe thead th {\n",
       "        text-align: right;\n",
       "    }\n",
       "</style>\n",
       "<table border=\"1\" class=\"dataframe\">\n",
       "  <thead>\n",
       "    <tr style=\"text-align: right;\">\n",
       "      <th></th>\n",
       "      <th>city_Ростов Великий</th>\n",
       "      <th>city_Рыбинск</th>\n",
       "      <th>city_Ярославль</th>\n",
       "      <th>gender_Ж</th>\n",
       "      <th>gender_М</th>\n",
       "    </tr>\n",
       "  </thead>\n",
       "  <tbody>\n",
       "    <tr>\n",
       "      <th>0</th>\n",
       "      <td>0</td>\n",
       "      <td>0</td>\n",
       "      <td>1</td>\n",
       "      <td>1</td>\n",
       "      <td>0</td>\n",
       "    </tr>\n",
       "    <tr>\n",
       "      <th>1</th>\n",
       "      <td>0</td>\n",
       "      <td>1</td>\n",
       "      <td>0</td>\n",
       "      <td>1</td>\n",
       "      <td>0</td>\n",
       "    </tr>\n",
       "    <tr>\n",
       "      <th>2</th>\n",
       "      <td>0</td>\n",
       "      <td>0</td>\n",
       "      <td>1</td>\n",
       "      <td>1</td>\n",
       "      <td>0</td>\n",
       "    </tr>\n",
       "    <tr>\n",
       "      <th>3</th>\n",
       "      <td>0</td>\n",
       "      <td>0</td>\n",
       "      <td>1</td>\n",
       "      <td>1</td>\n",
       "      <td>0</td>\n",
       "    </tr>\n",
       "    <tr>\n",
       "      <th>4</th>\n",
       "      <td>0</td>\n",
       "      <td>1</td>\n",
       "      <td>0</td>\n",
       "      <td>1</td>\n",
       "      <td>0</td>\n",
       "    </tr>\n",
       "  </tbody>\n",
       "</table>\n",
       "</div>"
      ],
      "text/plain": [
       "   city_Ростов Великий  city_Рыбинск  city_Ярославль  gender_Ж  gender_М\n",
       "0                    0             0               1         1         0\n",
       "1                    0             1               0         1         0\n",
       "2                    0             0               1         1         0\n",
       "3                    0             0               1         1         0\n",
       "4                    0             1               0         1         0"
      ]
     },
     "execution_count": 15,
     "metadata": {},
     "output_type": "execute_result"
    }
   ],
   "source": [
    "data_onehot.head()"
   ]
  },
  {
   "cell_type": "code",
   "execution_count": 16,
   "metadata": {},
   "outputs": [],
   "source": [
    "data = data.merge(data_onehot, left_index=True, right_index=True)"
   ]
  },
  {
   "cell_type": "code",
   "execution_count": 17,
   "metadata": {},
   "outputs": [
    {
     "data": {
      "text/html": [
       "<div>\n",
       "<style scoped>\n",
       "    .dataframe tbody tr th:only-of-type {\n",
       "        vertical-align: middle;\n",
       "    }\n",
       "\n",
       "    .dataframe tbody tr th {\n",
       "        vertical-align: top;\n",
       "    }\n",
       "\n",
       "    .dataframe thead th {\n",
       "        text-align: right;\n",
       "    }\n",
       "</style>\n",
       "<table border=\"1\" class=\"dataframe\">\n",
       "  <thead>\n",
       "    <tr style=\"text-align: right;\">\n",
       "      <th></th>\n",
       "      <th>user_id</th>\n",
       "      <th>score</th>\n",
       "      <th>city</th>\n",
       "      <th>gender</th>\n",
       "      <th>age</th>\n",
       "      <th>objects</th>\n",
       "      <th>balance</th>\n",
       "      <th>products</th>\n",
       "      <th>credit_card</th>\n",
       "      <th>loyalty</th>\n",
       "      <th>estimated_salary</th>\n",
       "      <th>churn</th>\n",
       "      <th>city_Ростов Великий</th>\n",
       "      <th>city_Рыбинск</th>\n",
       "      <th>city_Ярославль</th>\n",
       "      <th>gender_Ж</th>\n",
       "      <th>gender_М</th>\n",
       "    </tr>\n",
       "  </thead>\n",
       "  <tbody>\n",
       "    <tr>\n",
       "      <th>0</th>\n",
       "      <td>15677338</td>\n",
       "      <td>619</td>\n",
       "      <td>Ярославль</td>\n",
       "      <td>Ж</td>\n",
       "      <td>42</td>\n",
       "      <td>2</td>\n",
       "      <td>0.00</td>\n",
       "      <td>1</td>\n",
       "      <td>1</td>\n",
       "      <td>1</td>\n",
       "      <td>101348.88</td>\n",
       "      <td>1</td>\n",
       "      <td>0</td>\n",
       "      <td>0</td>\n",
       "      <td>1</td>\n",
       "      <td>1</td>\n",
       "      <td>0</td>\n",
       "    </tr>\n",
       "    <tr>\n",
       "      <th>1</th>\n",
       "      <td>15690047</td>\n",
       "      <td>608</td>\n",
       "      <td>Рыбинск</td>\n",
       "      <td>Ж</td>\n",
       "      <td>41</td>\n",
       "      <td>1</td>\n",
       "      <td>83807.86</td>\n",
       "      <td>1</td>\n",
       "      <td>0</td>\n",
       "      <td>1</td>\n",
       "      <td>112542.58</td>\n",
       "      <td>0</td>\n",
       "      <td>0</td>\n",
       "      <td>1</td>\n",
       "      <td>0</td>\n",
       "      <td>1</td>\n",
       "      <td>0</td>\n",
       "    </tr>\n",
       "    <tr>\n",
       "      <th>2</th>\n",
       "      <td>15662040</td>\n",
       "      <td>502</td>\n",
       "      <td>Ярославль</td>\n",
       "      <td>Ж</td>\n",
       "      <td>42</td>\n",
       "      <td>8</td>\n",
       "      <td>159660.80</td>\n",
       "      <td>3</td>\n",
       "      <td>1</td>\n",
       "      <td>0</td>\n",
       "      <td>113931.57</td>\n",
       "      <td>1</td>\n",
       "      <td>0</td>\n",
       "      <td>0</td>\n",
       "      <td>1</td>\n",
       "      <td>1</td>\n",
       "      <td>0</td>\n",
       "    </tr>\n",
       "    <tr>\n",
       "      <th>3</th>\n",
       "      <td>15744090</td>\n",
       "      <td>699</td>\n",
       "      <td>Ярославль</td>\n",
       "      <td>Ж</td>\n",
       "      <td>39</td>\n",
       "      <td>1</td>\n",
       "      <td>0.00</td>\n",
       "      <td>2</td>\n",
       "      <td>0</td>\n",
       "      <td>0</td>\n",
       "      <td>93826.63</td>\n",
       "      <td>0</td>\n",
       "      <td>0</td>\n",
       "      <td>0</td>\n",
       "      <td>1</td>\n",
       "      <td>1</td>\n",
       "      <td>0</td>\n",
       "    </tr>\n",
       "    <tr>\n",
       "      <th>4</th>\n",
       "      <td>15780624</td>\n",
       "      <td>850</td>\n",
       "      <td>Рыбинск</td>\n",
       "      <td>Ж</td>\n",
       "      <td>43</td>\n",
       "      <td>2</td>\n",
       "      <td>125510.82</td>\n",
       "      <td>1</td>\n",
       "      <td>1</td>\n",
       "      <td>1</td>\n",
       "      <td>79084.10</td>\n",
       "      <td>0</td>\n",
       "      <td>0</td>\n",
       "      <td>1</td>\n",
       "      <td>0</td>\n",
       "      <td>1</td>\n",
       "      <td>0</td>\n",
       "    </tr>\n",
       "  </tbody>\n",
       "</table>\n",
       "</div>"
      ],
      "text/plain": [
       "    user_id  score       city gender  age  objects    balance  products  \\\n",
       "0  15677338    619  Ярославль      Ж   42        2       0.00         1   \n",
       "1  15690047    608    Рыбинск      Ж   41        1   83807.86         1   \n",
       "2  15662040    502  Ярославль      Ж   42        8  159660.80         3   \n",
       "3  15744090    699  Ярославль      Ж   39        1       0.00         2   \n",
       "4  15780624    850    Рыбинск      Ж   43        2  125510.82         1   \n",
       "\n",
       "   credit_card  loyalty  estimated_salary  churn  city_Ростов Великий  \\\n",
       "0            1        1         101348.88      1                    0   \n",
       "1            0        1         112542.58      0                    0   \n",
       "2            1        0         113931.57      1                    0   \n",
       "3            0        0          93826.63      0                    0   \n",
       "4            1        1          79084.10      0                    0   \n",
       "\n",
       "   city_Рыбинск  city_Ярославль  gender_Ж  gender_М  \n",
       "0             0               1         1         0  \n",
       "1             1               0         1         0  \n",
       "2             0               1         1         0  \n",
       "3             0               1         1         0  \n",
       "4             1               0         1         0  "
      ]
     },
     "execution_count": 17,
     "metadata": {},
     "output_type": "execute_result"
    }
   ],
   "source": [
    "data.head()"
   ]
  },
  {
   "cell_type": "markdown",
   "metadata": {},
   "source": [
    "## Исследовательский анализ данных <a class=\"anchor\" id=\"3\"></a>"
   ]
  },
  {
   "cell_type": "markdown",
   "metadata": {},
   "source": [
    "### Графики распределения <a class=\"anchor\" id=\"3.1\"></a>"
   ]
  },
  {
   "cell_type": "code",
   "execution_count": 18,
   "metadata": {},
   "outputs": [],
   "source": [
    "#функция для визуализации количественных распределений\n",
    "def draw_hist (param,title,xlable):\n",
    "    plt.figure(figsize=(15, 7))\n",
    "    sns.histplot(x=param, \n",
    "                 data=data, \n",
    "                 kde=True, \n",
    "                 hue='churn',\n",
    "                 stat='density',\n",
    "                 common_norm=False)\n",
    "    plt.title(title)\n",
    "    plt.xlabel(xlable)\n",
    "    plt.ylabel('Количество клиентов')\n",
    "    plt.show()"
   ]
  },
  {
   "cell_type": "code",
   "execution_count": 19,
   "metadata": {},
   "outputs": [
    {
     "data": {
      "image/png": "[encoded data removed]",
      "text/plain": [
       "<Figure size 1080x504 with 1 Axes>"
      ]
     },
     "metadata": {
      "needs_background": "light"
     },
     "output_type": "display_data"
    }
   ],
   "source": [
    "draw_hist('score', \n",
    "          'Распределение баллов кредитного скоринга в зависимости от оттока', \n",
    "          'Балл кредитного скоринга')"
   ]
  },
  {
   "cell_type": "code",
   "execution_count": 20,
   "metadata": {},
   "outputs": [
    {
     "data": {
      "image/png": "[encoded data removed]",
      "text/plain": [
       "<Figure size 1080x504 with 1 Axes>"
      ]
     },
     "metadata": {
      "needs_background": "light"
     },
     "output_type": "display_data"
    }
   ],
   "source": [
    "draw_hist('age',\n",
    "          'Распределение клиентов по возрасту в зависимости от оттока',\n",
    "          'Возраст')"
   ]
  },
  {
   "cell_type": "code",
   "execution_count": 21,
   "metadata": {},
   "outputs": [
    {
     "data": {
      "image/png": "[encoded data removed]",
      "text/plain": [
       "<Figure size 1080x504 with 1 Axes>"
      ]
     },
     "metadata": {
      "needs_background": "light"
     },
     "output_type": "display_data"
    }
   ],
   "source": [
    "draw_hist('balance',\n",
    "          'Распределение баланса клиентов в зависимости от оттока',\n",
    "          'Баланс')"
   ]
  },
  {
   "cell_type": "code",
   "execution_count": 22,
   "metadata": {},
   "outputs": [
    {
     "data": {
      "image/png": "[encoded data removed]",
      "text/plain": [
       "<Figure size 1080x504 with 1 Axes>"
      ]
     },
     "metadata": {
      "needs_background": "light"
     },
     "output_type": "display_data"
    }
   ],
   "source": [
    "draw_hist('estimated_salary',\n",
    "          'Распределение зарплаты клиентов в зависимости от оттока',\n",
    "          'Зарплата')"
   ]
  },
  {
   "cell_type": "code",
   "execution_count": 23,
   "metadata": {},
   "outputs": [],
   "source": [
    "#функция для визуализации категориальных распределений\n",
    "def draw_bar (param,title,xlable):\n",
    "    plt.figure(figsize=(15, 7))\n",
    "    sns.barplot(x=param, \n",
    "                y='user_id', \n",
    "                data=data.groupby([param, 'churn'], as_index=False)[['user_id']].count(), \n",
    "                hue='churn')\n",
    "    plt.title(title)\n",
    "    plt.xlabel(xlable)\n",
    "    plt.ylabel('Количество клиентов')\n",
    "    plt.legend(loc='upper right', fontsize=10)\n",
    "    plt.grid()\n",
    "    plt.show()"
   ]
  },
  {
   "cell_type": "code",
   "execution_count": 24,
   "metadata": {},
   "outputs": [
    {
     "data": {
      "image/png": "[encoded data removed]",
      "text/plain": [
       "<Figure size 1080x504 with 1 Axes>"
      ]
     },
     "metadata": {
      "needs_background": "light"
     },
     "output_type": "display_data"
    }
   ],
   "source": [
    "draw_bar('city',\n",
    "         'Распределение клиентов по городам в зависимости от оттока',\n",
    "         'Город')"
   ]
  },
  {
   "cell_type": "code",
   "execution_count": 25,
   "metadata": {},
   "outputs": [
    {
     "data": {
      "image/png": "[encoded data removed]",
      "text/plain": [
       "<Figure size 1080x504 with 1 Axes>"
      ]
     },
     "metadata": {
      "needs_background": "light"
     },
     "output_type": "display_data"
    }
   ],
   "source": [
    "draw_bar('gender',\n",
    "         'Распределение клиентов по полу в зависимости от оттока',\n",
    "         'Пол')"
   ]
  },
  {
   "cell_type": "code",
   "execution_count": 26,
   "metadata": {},
   "outputs": [
    {
     "data": {
      "image/png": "[encoded data removed]",
      "text/plain": [
       "<Figure size 1080x504 with 1 Axes>"
      ]
     },
     "metadata": {
      "needs_background": "light"
     },
     "output_type": "display_data"
    }
   ],
   "source": [
    "draw_bar('objects',\n",
    "         'Распределение клиентов по количеству собственности в зависимости от оттока',\n",
    "         'Количество собственности')"
   ]
  },
  {
   "cell_type": "code",
   "execution_count": 27,
   "metadata": {},
   "outputs": [
    {
     "data": {
      "image/png": "[encoded data removed]",
      "text/plain": [
       "<Figure size 1080x504 with 1 Axes>"
      ]
     },
     "metadata": {
      "needs_background": "light"
     },
     "output_type": "display_data"
    }
   ],
   "source": [
    "draw_bar('products', \n",
    "         'Распределение клиентов по количеству используемых продуктов банка в зависимости от оттока',\n",
    "         'Количество используемых продуктов')"
   ]
  },
  {
   "cell_type": "code",
   "execution_count": 28,
   "metadata": {},
   "outputs": [
    {
     "data": {
      "image/png": "[encoded data removed]",
      "text/plain": [
       "<Figure size 1080x504 with 1 Axes>"
      ]
     },
     "metadata": {
      "needs_background": "light"
     },
     "output_type": "display_data"
    }
   ],
   "source": [
    "draw_bar('credit_card',\n",
    "         'Распределение клиентов по владению кредитной картой в зависимости от оттока',\n",
    "         'Нет/есть кредитная карта')"
   ]
  },
  {
   "cell_type": "code",
   "execution_count": 29,
   "metadata": {},
   "outputs": [
    {
     "data": {
      "image/png": "[encoded data removed]",
      "text/plain": [
       "<Figure size 1080x504 with 1 Axes>"
      ]
     },
     "metadata": {
      "needs_background": "light"
     },
     "output_type": "display_data"
    }
   ],
   "source": [
    "draw_bar('loyalty',\n",
    "         'Распределение клиентов по активности в зависимости от оттока',\n",
    "         'Активность')"
   ]
  },
  {
   "cell_type": "markdown",
   "metadata": {},
   "source": [
    "### Составление портретов клиентов <a class=\"anchor\" id=\"3.2\"></a>"
   ]
  },
  {
   "cell_type": "markdown",
   "metadata": {},
   "source": [
    "Для категоризации признаков посчитаем средний уровень оттока по всему датасету."
   ]
  },
  {
   "cell_type": "code",
   "execution_count": 30,
   "metadata": {},
   "outputs": [
    {
     "data": {
      "text/plain": [
       "0.2037"
      ]
     },
     "execution_count": 30,
     "metadata": {},
     "output_type": "execute_result"
    }
   ],
   "source": [
    "total_avg_churn = data['churn'].astype(int).sum()/data['churn'].count()\n",
    "total_avg_churn"
   ]
  },
  {
   "cell_type": "markdown",
   "metadata": {},
   "source": [
    "Общий средний уровень оттока клиентов равен ~20%."
   ]
  },
  {
   "cell_type": "markdown",
   "metadata": {},
   "source": [
    "Признак `Score` делаится на 4 категории:\n",
    "- 300-500 - Нет шансов получить заем\n",
    "- 600-650 - Низкий балл, крупные финансовые организации не рассматривают\n",
    "- 650-690 - Хороший балл, есть шансы на одобрение займа со стандартными условиями\n",
    "- 690-850 - Отличный балл, одобрить заем могут с более выгодными условиями"
   ]
  },
  {
   "cell_type": "code",
   "execution_count": 31,
   "metadata": {},
   "outputs": [],
   "source": [
    "#функция для визуализации количественных распределений с учетом общего среднего уровня оттока\n",
    "def draw_hist_axhline (param,title,xlable):\n",
    "    plt.figure(figsize=(15, 7))\n",
    "    sns.histplot(x=param, \n",
    "                 data=data, \n",
    "                 kde=True, \n",
    "                 hue='churn',\n",
    "                 stat='density',\n",
    "                 common_norm=False)\n",
    "    plt.axhline(y=0.02, color='red')\n",
    "    plt.title(title)\n",
    "    plt.xlabel(xlable)\n",
    "    plt.ylabel('Количество клиентов')\n",
    "    plt.show()"
   ]
  },
  {
   "cell_type": "code",
   "execution_count": 32,
   "metadata": {},
   "outputs": [
    {
     "data": {
      "image/png": "[encoded data removed]",
      "text/plain": [
       "<Figure size 1080x504 with 1 Axes>"
      ]
     },
     "metadata": {
      "needs_background": "light"
     },
     "output_type": "display_data"
    }
   ],
   "source": [
    "draw_hist_axhline('age',\n",
    "                 'Распределение клиентов по возрасту в зависимости от оттока',\n",
    "                 'Возраст')"
   ]
  },
  {
   "cell_type": "markdown",
   "metadata": {},
   "source": [
    "Категории возраста клиентов можно разделить на 3:\n",
    "- до 35\n",
    "- 35-60\n",
    "- старше 60"
   ]
  },
  {
   "cell_type": "code",
   "execution_count": 33,
   "metadata": {},
   "outputs": [
    {
     "data": {
      "image/png": "[encoded data removed]",
      "text/plain": [
       "<Figure size 1080x504 with 1 Axes>"
      ]
     },
     "metadata": {
      "needs_background": "light"
     },
     "output_type": "display_data"
    }
   ],
   "source": [
    "plt.figure(figsize=(15, 7))\n",
    "sns.histplot(x='balance', \n",
    "             data=data, \n",
    "             kde=True, \n",
    "             hue='churn',\n",
    "             stat='density',\n",
    "             common_norm=False)\n",
    "plt.axhline(y=0.000002, color='red')\n",
    "plt.title('Распределение баланса клиентов в зависимости от оттока')\n",
    "plt.xlabel('Баланс')\n",
    "plt.ylabel('Количество клиентов')\n",
    "plt.show()"
   ]
  },
  {
   "cell_type": "markdown",
   "metadata": {},
   "source": [
    "Баланс разделим на следующие категории:\n",
    "- менее 75000\n",
    "- 75000-175000\n",
    "- более 175000"
   ]
  },
  {
   "cell_type": "code",
   "execution_count": 34,
   "metadata": {},
   "outputs": [],
   "source": [
    "city_grouped = data.groupby('city', as_index=False).agg({'churn':['sum','count']})\n",
    "city_grouped.columns = ['city', 'sum', 'count']"
   ]
  },
  {
   "cell_type": "code",
   "execution_count": 35,
   "metadata": {},
   "outputs": [],
   "source": [
    "city_grouped['churn_rate'] = city_grouped['sum']/city_grouped['count']"
   ]
  },
  {
   "cell_type": "code",
   "execution_count": 36,
   "metadata": {},
   "outputs": [
    {
     "data": {
      "image/png": "[encoded data removed]",
      "text/plain": [
       "<Figure size 1080x504 with 1 Axes>"
      ]
     },
     "metadata": {
      "needs_background": "light"
     },
     "output_type": "display_data"
    }
   ],
   "source": [
    "plt.figure(figsize=(15, 7))\n",
    "sns.barplot(x='city', \n",
    "            y='churn_rate', \n",
    "            data=city_grouped)\n",
    "plt.axhline(y=0.2, color='red')\n",
    "plt.title('Уровень оттока клиентов в зависимости от города')\n",
    "plt.xlabel('Город')\n",
    "plt.ylabel('Уровень оттока')\n",
    "plt.grid()\n",
    "plt.show()"
   ]
  },
  {
   "cell_type": "markdown",
   "metadata": {},
   "source": [
    "Самый отточный город - Ростов Великий."
   ]
  },
  {
   "cell_type": "code",
   "execution_count": 37,
   "metadata": {},
   "outputs": [],
   "source": [
    "gender_grouped = data.groupby('gender', as_index=False).agg({'churn':['sum','count']})\n",
    "gender_grouped.columns = ['gender', 'sum', 'count']\n",
    "gender_grouped['churn_rate'] = gender_grouped['sum']/gender_grouped['count']"
   ]
  },
  {
   "cell_type": "code",
   "execution_count": 38,
   "metadata": {},
   "outputs": [
    {
     "data": {
      "image/png": "[encoded data removed]",
      "text/plain": [
       "<Figure size 1080x504 with 1 Axes>"
      ]
     },
     "metadata": {
      "needs_background": "light"
     },
     "output_type": "display_data"
    }
   ],
   "source": [
    "plt.figure(figsize=(15, 7))\n",
    "sns.barplot(x='gender', \n",
    "            y='churn_rate', \n",
    "            data=gender_grouped)\n",
    "plt.axhline(y=0.2, color='red')\n",
    "plt.title('Уровень оттока клиентов в зависимости от пола')\n",
    "plt.xlabel('Пол')\n",
    "plt.ylabel('Уровень оттока')\n",
    "plt.grid()\n",
    "plt.show()"
   ]
  },
  {
   "cell_type": "markdown",
   "metadata": {},
   "source": [
    "Мужчинам более свойственно уходить."
   ]
  },
  {
   "cell_type": "code",
   "execution_count": 39,
   "metadata": {},
   "outputs": [
    {
     "data": {
      "text/html": [
       "<div>\n",
       "<style scoped>\n",
       "    .dataframe tbody tr th:only-of-type {\n",
       "        vertical-align: middle;\n",
       "    }\n",
       "\n",
       "    .dataframe tbody tr th {\n",
       "        vertical-align: top;\n",
       "    }\n",
       "\n",
       "    .dataframe thead th {\n",
       "        text-align: right;\n",
       "    }\n",
       "</style>\n",
       "<table border=\"1\" class=\"dataframe\">\n",
       "  <thead>\n",
       "    <tr style=\"text-align: right;\">\n",
       "      <th></th>\n",
       "      <th>objects</th>\n",
       "      <th>sum</th>\n",
       "      <th>count</th>\n",
       "      <th>churn_rate</th>\n",
       "    </tr>\n",
       "  </thead>\n",
       "  <tbody>\n",
       "    <tr>\n",
       "      <th>0</th>\n",
       "      <td>0</td>\n",
       "      <td>95</td>\n",
       "      <td>413</td>\n",
       "      <td>0.230024</td>\n",
       "    </tr>\n",
       "    <tr>\n",
       "      <th>1</th>\n",
       "      <td>1</td>\n",
       "      <td>232</td>\n",
       "      <td>1035</td>\n",
       "      <td>0.224155</td>\n",
       "    </tr>\n",
       "    <tr>\n",
       "      <th>2</th>\n",
       "      <td>2</td>\n",
       "      <td>201</td>\n",
       "      <td>1048</td>\n",
       "      <td>0.191794</td>\n",
       "    </tr>\n",
       "    <tr>\n",
       "      <th>3</th>\n",
       "      <td>3</td>\n",
       "      <td>213</td>\n",
       "      <td>1009</td>\n",
       "      <td>0.211100</td>\n",
       "    </tr>\n",
       "    <tr>\n",
       "      <th>4</th>\n",
       "      <td>4</td>\n",
       "      <td>203</td>\n",
       "      <td>989</td>\n",
       "      <td>0.205258</td>\n",
       "    </tr>\n",
       "    <tr>\n",
       "      <th>5</th>\n",
       "      <td>5</td>\n",
       "      <td>209</td>\n",
       "      <td>1012</td>\n",
       "      <td>0.206522</td>\n",
       "    </tr>\n",
       "    <tr>\n",
       "      <th>6</th>\n",
       "      <td>6</td>\n",
       "      <td>196</td>\n",
       "      <td>967</td>\n",
       "      <td>0.202689</td>\n",
       "    </tr>\n",
       "    <tr>\n",
       "      <th>7</th>\n",
       "      <td>7</td>\n",
       "      <td>177</td>\n",
       "      <td>1028</td>\n",
       "      <td>0.172179</td>\n",
       "    </tr>\n",
       "    <tr>\n",
       "      <th>8</th>\n",
       "      <td>8</td>\n",
       "      <td>197</td>\n",
       "      <td>1025</td>\n",
       "      <td>0.192195</td>\n",
       "    </tr>\n",
       "    <tr>\n",
       "      <th>9</th>\n",
       "      <td>9</td>\n",
       "      <td>213</td>\n",
       "      <td>984</td>\n",
       "      <td>0.216463</td>\n",
       "    </tr>\n",
       "    <tr>\n",
       "      <th>10</th>\n",
       "      <td>10</td>\n",
       "      <td>101</td>\n",
       "      <td>490</td>\n",
       "      <td>0.206122</td>\n",
       "    </tr>\n",
       "  </tbody>\n",
       "</table>\n",
       "</div>"
      ],
      "text/plain": [
       "    objects  sum  count  churn_rate\n",
       "0         0   95    413    0.230024\n",
       "1         1  232   1035    0.224155\n",
       "2         2  201   1048    0.191794\n",
       "3         3  213   1009    0.211100\n",
       "4         4  203    989    0.205258\n",
       "5         5  209   1012    0.206522\n",
       "6         6  196    967    0.202689\n",
       "7         7  177   1028    0.172179\n",
       "8         8  197   1025    0.192195\n",
       "9         9  213    984    0.216463\n",
       "10       10  101    490    0.206122"
      ]
     },
     "execution_count": 39,
     "metadata": {},
     "output_type": "execute_result"
    }
   ],
   "source": [
    "obj_grouped = data.groupby('objects', as_index=False).agg({'churn':['sum','count']})\n",
    "obj_grouped.columns = ['objects', 'sum', 'count']\n",
    "obj_grouped['churn_rate'] = obj_grouped['sum']/obj_grouped['count']\n",
    "obj_grouped"
   ]
  },
  {
   "cell_type": "code",
   "execution_count": 40,
   "metadata": {},
   "outputs": [
    {
     "data": {
      "image/png": "[encoded data removed]",
      "text/plain": [
       "<Figure size 1080x504 with 1 Axes>"
      ]
     },
     "metadata": {
      "needs_background": "light"
     },
     "output_type": "display_data"
    }
   ],
   "source": [
    "plt.figure(figsize=(15, 7))\n",
    "sns.barplot(x='objects', \n",
    "            y='churn_rate', \n",
    "            data=obj_grouped)\n",
    "plt.axhline(y=0.2, color='red')\n",
    "plt.title('Уровень оттока клиентов в зависимости от количества собственности')\n",
    "plt.xlabel('Количество собственности')\n",
    "plt.ylabel('Уровень оттока')\n",
    "plt.grid()\n",
    "plt.show()"
   ]
  },
  {
   "cell_type": "code",
   "execution_count": 41,
   "metadata": {},
   "outputs": [
    {
     "data": {
      "text/html": [
       "<div>\n",
       "<style scoped>\n",
       "    .dataframe tbody tr th:only-of-type {\n",
       "        vertical-align: middle;\n",
       "    }\n",
       "\n",
       "    .dataframe tbody tr th {\n",
       "        vertical-align: top;\n",
       "    }\n",
       "\n",
       "    .dataframe thead th {\n",
       "        text-align: right;\n",
       "    }\n",
       "</style>\n",
       "<table border=\"1\" class=\"dataframe\">\n",
       "  <thead>\n",
       "    <tr style=\"text-align: right;\">\n",
       "      <th></th>\n",
       "      <th>products</th>\n",
       "      <th>sum</th>\n",
       "      <th>count</th>\n",
       "      <th>churn_rate</th>\n",
       "    </tr>\n",
       "  </thead>\n",
       "  <tbody>\n",
       "    <tr>\n",
       "      <th>0</th>\n",
       "      <td>1</td>\n",
       "      <td>1409</td>\n",
       "      <td>5084</td>\n",
       "      <td>0.277144</td>\n",
       "    </tr>\n",
       "    <tr>\n",
       "      <th>1</th>\n",
       "      <td>2</td>\n",
       "      <td>348</td>\n",
       "      <td>4590</td>\n",
       "      <td>0.075817</td>\n",
       "    </tr>\n",
       "    <tr>\n",
       "      <th>2</th>\n",
       "      <td>3</td>\n",
       "      <td>220</td>\n",
       "      <td>266</td>\n",
       "      <td>0.827068</td>\n",
       "    </tr>\n",
       "    <tr>\n",
       "      <th>3</th>\n",
       "      <td>4</td>\n",
       "      <td>60</td>\n",
       "      <td>60</td>\n",
       "      <td>1.000000</td>\n",
       "    </tr>\n",
       "  </tbody>\n",
       "</table>\n",
       "</div>"
      ],
      "text/plain": [
       "   products   sum  count  churn_rate\n",
       "0         1  1409   5084    0.277144\n",
       "1         2   348   4590    0.075817\n",
       "2         3   220    266    0.827068\n",
       "3         4    60     60    1.000000"
      ]
     },
     "execution_count": 41,
     "metadata": {},
     "output_type": "execute_result"
    }
   ],
   "source": [
    "prod_grouped = data.groupby('products', as_index=False).agg({'churn':['sum','count']})\n",
    "prod_grouped.columns = ['products', 'sum', 'count']\n",
    "prod_grouped['churn_rate'] = prod_grouped['sum']/prod_grouped['count']\n",
    "prod_grouped"
   ]
  },
  {
   "cell_type": "code",
   "execution_count": 42,
   "metadata": {},
   "outputs": [
    {
     "data": {
      "image/png": "[encoded data removed]",
      "text/plain": [
       "<Figure size 1080x504 with 1 Axes>"
      ]
     },
     "metadata": {
      "needs_background": "light"
     },
     "output_type": "display_data"
    }
   ],
   "source": [
    "plt.figure(figsize=(15, 7))\n",
    "sns.barplot(x='products', \n",
    "            y='churn_rate', \n",
    "            data=prod_grouped)\n",
    "plt.axhline(y=0.2, color='red')\n",
    "plt.title('Уровень оттока клиентов в зависимости от количества используемых продуктов банка')\n",
    "plt.xlabel('Количество используемых продуктов')\n",
    "plt.ylabel('Уровень оттока')\n",
    "plt.grid()\n",
    "plt.show()"
   ]
  },
  {
   "cell_type": "code",
   "execution_count": 43,
   "metadata": {},
   "outputs": [
    {
     "data": {
      "text/html": [
       "<div>\n",
       "<style scoped>\n",
       "    .dataframe tbody tr th:only-of-type {\n",
       "        vertical-align: middle;\n",
       "    }\n",
       "\n",
       "    .dataframe tbody tr th {\n",
       "        vertical-align: top;\n",
       "    }\n",
       "\n",
       "    .dataframe thead th {\n",
       "        text-align: right;\n",
       "    }\n",
       "</style>\n",
       "<table border=\"1\" class=\"dataframe\">\n",
       "  <thead>\n",
       "    <tr style=\"text-align: right;\">\n",
       "      <th></th>\n",
       "      <th>credit_card</th>\n",
       "      <th>sum</th>\n",
       "      <th>count</th>\n",
       "      <th>churn_rate</th>\n",
       "    </tr>\n",
       "  </thead>\n",
       "  <tbody>\n",
       "    <tr>\n",
       "      <th>0</th>\n",
       "      <td>0</td>\n",
       "      <td>613</td>\n",
       "      <td>2945</td>\n",
       "      <td>0.208149</td>\n",
       "    </tr>\n",
       "    <tr>\n",
       "      <th>1</th>\n",
       "      <td>1</td>\n",
       "      <td>1424</td>\n",
       "      <td>7055</td>\n",
       "      <td>0.201843</td>\n",
       "    </tr>\n",
       "  </tbody>\n",
       "</table>\n",
       "</div>"
      ],
      "text/plain": [
       "   credit_card   sum  count  churn_rate\n",
       "0            0   613   2945    0.208149\n",
       "1            1  1424   7055    0.201843"
      ]
     },
     "execution_count": 43,
     "metadata": {},
     "output_type": "execute_result"
    }
   ],
   "source": [
    "cred_grouped = data.groupby('credit_card', as_index=False).agg({'churn':['sum','count']})\n",
    "cred_grouped.columns = ['credit_card', 'sum', 'count']\n",
    "cred_grouped['churn_rate'] = cred_grouped['sum']/cred_grouped['count']\n",
    "cred_grouped"
   ]
  },
  {
   "cell_type": "code",
   "execution_count": 44,
   "metadata": {},
   "outputs": [
    {
     "data": {
      "image/png": "[encoded data removed]",
      "text/plain": [
       "<Figure size 1080x504 with 1 Axes>"
      ]
     },
     "metadata": {
      "needs_background": "light"
     },
     "output_type": "display_data"
    }
   ],
   "source": [
    "plt.figure(figsize=(15, 7))\n",
    "sns.barplot(x='credit_card', \n",
    "            y='churn_rate', \n",
    "            data=cred_grouped)\n",
    "plt.axhline(y=0.2, color='red')\n",
    "plt.title('Уровень оттока клиентов в зависимости от владения кредитной картой')\n",
    "plt.xlabel('Нет/есть кредитная карта')\n",
    "plt.ylabel('Уровень оттока')\n",
    "plt.grid()\n",
    "plt.show()"
   ]
  },
  {
   "cell_type": "code",
   "execution_count": 45,
   "metadata": {},
   "outputs": [
    {
     "data": {
      "text/html": [
       "<div>\n",
       "<style scoped>\n",
       "    .dataframe tbody tr th:only-of-type {\n",
       "        vertical-align: middle;\n",
       "    }\n",
       "\n",
       "    .dataframe tbody tr th {\n",
       "        vertical-align: top;\n",
       "    }\n",
       "\n",
       "    .dataframe thead th {\n",
       "        text-align: right;\n",
       "    }\n",
       "</style>\n",
       "<table border=\"1\" class=\"dataframe\">\n",
       "  <thead>\n",
       "    <tr style=\"text-align: right;\">\n",
       "      <th></th>\n",
       "      <th>loyalty</th>\n",
       "      <th>sum</th>\n",
       "      <th>count</th>\n",
       "      <th>churn_rate</th>\n",
       "    </tr>\n",
       "  </thead>\n",
       "  <tbody>\n",
       "    <tr>\n",
       "      <th>0</th>\n",
       "      <td>0</td>\n",
       "      <td>1302</td>\n",
       "      <td>4849</td>\n",
       "      <td>0.268509</td>\n",
       "    </tr>\n",
       "    <tr>\n",
       "      <th>1</th>\n",
       "      <td>1</td>\n",
       "      <td>735</td>\n",
       "      <td>5151</td>\n",
       "      <td>0.142691</td>\n",
       "    </tr>\n",
       "  </tbody>\n",
       "</table>\n",
       "</div>"
      ],
      "text/plain": [
       "   loyalty   sum  count  churn_rate\n",
       "0        0  1302   4849    0.268509\n",
       "1        1   735   5151    0.142691"
      ]
     },
     "execution_count": 45,
     "metadata": {},
     "output_type": "execute_result"
    }
   ],
   "source": [
    "loyal_grouped = data.groupby('loyalty', as_index=False).agg({'churn':['sum','count']})\n",
    "loyal_grouped.columns = ['loyalty', 'sum', 'count']\n",
    "loyal_grouped['churn_rate'] = loyal_grouped['sum']/loyal_grouped['count']\n",
    "loyal_grouped"
   ]
  },
  {
   "cell_type": "code",
   "execution_count": 46,
   "metadata": {},
   "outputs": [
    {
     "data": {
      "image/png": "[encoded data removed]",
      "text/plain": [
       "<Figure size 1080x504 with 1 Axes>"
      ]
     },
     "metadata": {
      "needs_background": "light"
     },
     "output_type": "display_data"
    }
   ],
   "source": [
    "plt.figure(figsize=(15, 7))\n",
    "sns.barplot(x='loyalty', \n",
    "            y='churn_rate', \n",
    "            data=loyal_grouped)\n",
    "plt.axhline(y=0.2, color='red')\n",
    "plt.title('Уровень оттока клиентов в зависимости от активности')\n",
    "plt.xlabel('Активность')\n",
    "plt.ylabel('Уровень оттока')\n",
    "plt.grid()\n",
    "plt.show()"
   ]
  },
  {
   "cell_type": "markdown",
   "metadata": {},
   "source": [
    "### Корреляционный анализ <a class=\"anchor\" id=\"3.3\"></a>"
   ]
  },
  {
   "cell_type": "code",
   "execution_count": 47,
   "metadata": {},
   "outputs": [
    {
     "data": {
      "image/png": "[encoded data removed]",
      "text/plain": [
       "<Figure size 1080x1080 with 2 Axes>"
      ]
     },
     "metadata": {
      "needs_background": "light"
     },
     "output_type": "display_data"
    }
   ],
   "source": [
    "plt.figure(figsize=(15, 15))\n",
    "fig = sns.heatmap(data.corr(), annot = True)\n",
    "fig.set(title = 'Матрица корреляции')\n",
    "#for t in fig.texts:\n",
    "    #if float(t.get_text())>=0.3 or float(t.get_text())<=-0.3:\n",
    "        #t.set_text(t.get_text()) \n",
    "    #else:\n",
    "        #t.set_text('')\n",
    "plt.show()"
   ]
  },
  {
   "cell_type": "markdown",
   "metadata": {},
   "source": [
    "Более менее значимая корреляция между оттоком и возрастом, а также проживанием в Ростове Великом и балансом."
   ]
  },
  {
   "cell_type": "markdown",
   "metadata": {},
   "source": [
    "## Проверка гипотез <a class=\"anchor\" id=\"4\"></a>"
   ]
  },
  {
   "cell_type": "markdown",
   "metadata": {},
   "source": [
    "### Гипотеза №1. <a class=\"anchor\" id=\"4.1\"></a>\n",
    "* H0: Доход отточных клиентов равен доходу текущих.\n",
    "* H1: Доходы отточных и текущих клиентов не равны.\n",
    "\n",
    "alpha = 0.05"
   ]
  },
  {
   "cell_type": "code",
   "execution_count": 48,
   "metadata": {},
   "outputs": [
    {
     "name": "stdout",
     "output_type": "stream",
     "text": [
      "0.22892461305145798\n",
      "Не получилось отвергнуть нулевую гипотезу\n"
     ]
    }
   ],
   "source": [
    "results = st.ttest_ind(\n",
    "    data[data['churn'] == 1]['estimated_salary'],\n",
    "    data[data['churn'] == 0]['estimated_salary'],\n",
    "    equal_var=False)\n",
    "\n",
    "alpha = .05\n",
    "\n",
    "print(results.pvalue)\n",
    "if results.pvalue < alpha:\n",
    "    print('Отвергаем нулевую гипотезу')\n",
    "else:\n",
    "    print('Не получилось отвергнуть нулевую гипотезу')"
   ]
  },
  {
   "cell_type": "markdown",
   "metadata": {},
   "source": [
    "Не отвергаем нулевую гипотезу: разницы между доходом отточных и текущих клиентов нет."
   ]
  },
  {
   "cell_type": "markdown",
   "metadata": {},
   "source": [
    "### Гипотеза №2. <a class=\"anchor\" id=\"4.2\"></a>\n",
    "* H0: Возраст отточных клиентов равен возрасту текущих.\n",
    "* H1: Возраст отточных и текущих клиентов не равны.\n",
    "\n",
    "alpha = 0.05"
   ]
  },
  {
   "cell_type": "code",
   "execution_count": 49,
   "metadata": {},
   "outputs": [
    {
     "name": "stdout",
     "output_type": "stream",
     "text": [
      "4.7127272656641046e-179\n",
      "Отвергаем нулевую гипотезу\n"
     ]
    }
   ],
   "source": [
    "results = st.ttest_ind(\n",
    "    data[data['churn'] == 1]['age'],\n",
    "    data[data['churn'] == 0]['age'],\n",
    "    equal_var=False)\n",
    "\n",
    "alpha = .05\n",
    "\n",
    "print(results.pvalue)\n",
    "if results.pvalue < alpha:\n",
    "    print('Отвергаем нулевую гипотезу')\n",
    "else:\n",
    "    print('Не получилось отвергнуть нулевую гипотезу')"
   ]
  },
  {
   "cell_type": "markdown",
   "metadata": {},
   "source": [
    "P-value сильно меньше alpha, отвергаем нулевую гипотезу и считаем, что возраст отточных и текущих клиентов различается."
   ]
  },
  {
   "cell_type": "markdown",
   "metadata": {},
   "source": [
    "## Промежуточный вывод о том, какие показатели стратегически влияют на отток <a class=\"anchor\" id=\"5\"></a>"
   ]
  },
  {
   "cell_type": "markdown",
   "metadata": {},
   "source": [
    "На отток стратегически влияют следующие показатели:\n",
    "- балл кредитного скоринга\n",
    "- возраст"
   ]
  },
  {
   "cell_type": "markdown",
   "metadata": {},
   "source": [
    "## Сегментация на основе стратегических сегментов <a class=\"anchor\" id=\"6\"></a>"
   ]
  },
  {
   "cell_type": "markdown",
   "metadata": {},
   "source": [
    "Таким образом, можно выделить следующие сегменты отточных клиентов:\n",
    "* Сегмент 1: кол-во 743\n",
    "  - мужчины\n",
    "  - 35-60 лет\n",
    "  - проживающие в Ростове Великом\n",
    "  - с балансом 75000-175000\n",
    "  \n",
    "* Сегмент 2: кол-во 625\n",
    "  - мужчины\n",
    "  - проживающие в Ростове Великом\n",
    "  - с хорошим и отличным кредитным скорингом 650-850"
   ]
  },
  {
   "cell_type": "code",
   "execution_count": 50,
   "metadata": {},
   "outputs": [
    {
     "data": {
      "text/html": [
       "<div>\n",
       "<style scoped>\n",
       "    .dataframe tbody tr th:only-of-type {\n",
       "        vertical-align: middle;\n",
       "    }\n",
       "\n",
       "    .dataframe tbody tr th {\n",
       "        vertical-align: top;\n",
       "    }\n",
       "\n",
       "    .dataframe thead th {\n",
       "        text-align: right;\n",
       "    }\n",
       "</style>\n",
       "<table border=\"1\" class=\"dataframe\">\n",
       "  <thead>\n",
       "    <tr style=\"text-align: right;\">\n",
       "      <th></th>\n",
       "      <th>user_id</th>\n",
       "      <th>score</th>\n",
       "      <th>city</th>\n",
       "      <th>gender</th>\n",
       "      <th>age</th>\n",
       "      <th>objects</th>\n",
       "      <th>balance</th>\n",
       "      <th>products</th>\n",
       "      <th>credit_card</th>\n",
       "      <th>loyalty</th>\n",
       "      <th>estimated_salary</th>\n",
       "      <th>churn</th>\n",
       "      <th>city_Ростов Великий</th>\n",
       "      <th>city_Рыбинск</th>\n",
       "      <th>city_Ярославль</th>\n",
       "      <th>gender_Ж</th>\n",
       "      <th>gender_М</th>\n",
       "    </tr>\n",
       "  </thead>\n",
       "  <tbody>\n",
       "    <tr>\n",
       "      <th>15</th>\n",
       "      <td>15686702</td>\n",
       "      <td>616</td>\n",
       "      <td>Ростов Великий</td>\n",
       "      <td>М</td>\n",
       "      <td>45</td>\n",
       "      <td>3</td>\n",
       "      <td>143129.41</td>\n",
       "      <td>2</td>\n",
       "      <td>0</td>\n",
       "      <td>1</td>\n",
       "      <td>64327.26</td>\n",
       "      <td>0</td>\n",
       "      <td>1</td>\n",
       "      <td>0</td>\n",
       "      <td>0</td>\n",
       "      <td>0</td>\n",
       "      <td>1</td>\n",
       "    </tr>\n",
       "    <tr>\n",
       "      <th>16</th>\n",
       "      <td>15780188</td>\n",
       "      <td>653</td>\n",
       "      <td>Ростов Великий</td>\n",
       "      <td>М</td>\n",
       "      <td>58</td>\n",
       "      <td>1</td>\n",
       "      <td>132602.88</td>\n",
       "      <td>1</td>\n",
       "      <td>1</td>\n",
       "      <td>0</td>\n",
       "      <td>5097.67</td>\n",
       "      <td>1</td>\n",
       "      <td>1</td>\n",
       "      <td>0</td>\n",
       "      <td>0</td>\n",
       "      <td>0</td>\n",
       "      <td>1</td>\n",
       "    </tr>\n",
       "    <tr>\n",
       "      <th>26</th>\n",
       "      <td>15779552</td>\n",
       "      <td>756</td>\n",
       "      <td>Ростов Великий</td>\n",
       "      <td>М</td>\n",
       "      <td>36</td>\n",
       "      <td>2</td>\n",
       "      <td>136815.64</td>\n",
       "      <td>1</td>\n",
       "      <td>1</td>\n",
       "      <td>1</td>\n",
       "      <td>170041.95</td>\n",
       "      <td>0</td>\n",
       "      <td>1</td>\n",
       "      <td>0</td>\n",
       "      <td>0</td>\n",
       "      <td>0</td>\n",
       "      <td>1</td>\n",
       "    </tr>\n",
       "    <tr>\n",
       "      <th>32</th>\n",
       "      <td>15792917</td>\n",
       "      <td>553</td>\n",
       "      <td>Ростов Великий</td>\n",
       "      <td>М</td>\n",
       "      <td>41</td>\n",
       "      <td>9</td>\n",
       "      <td>110112.54</td>\n",
       "      <td>2</td>\n",
       "      <td>0</td>\n",
       "      <td>0</td>\n",
       "      <td>81898.81</td>\n",
       "      <td>0</td>\n",
       "      <td>1</td>\n",
       "      <td>0</td>\n",
       "      <td>0</td>\n",
       "      <td>0</td>\n",
       "      <td>1</td>\n",
       "    </tr>\n",
       "    <tr>\n",
       "      <th>48</th>\n",
       "      <td>15808941</td>\n",
       "      <td>550</td>\n",
       "      <td>Ростов Великий</td>\n",
       "      <td>М</td>\n",
       "      <td>38</td>\n",
       "      <td>2</td>\n",
       "      <td>103391.38</td>\n",
       "      <td>1</td>\n",
       "      <td>0</td>\n",
       "      <td>1</td>\n",
       "      <td>90878.13</td>\n",
       "      <td>0</td>\n",
       "      <td>1</td>\n",
       "      <td>0</td>\n",
       "      <td>0</td>\n",
       "      <td>0</td>\n",
       "      <td>1</td>\n",
       "    </tr>\n",
       "  </tbody>\n",
       "</table>\n",
       "</div>"
      ],
      "text/plain": [
       "     user_id  score            city gender  age  objects    balance  products  \\\n",
       "15  15686702    616  Ростов Великий      М   45        3  143129.41         2   \n",
       "16  15780188    653  Ростов Великий      М   58        1  132602.88         1   \n",
       "26  15779552    756  Ростов Великий      М   36        2  136815.64         1   \n",
       "32  15792917    553  Ростов Великий      М   41        9  110112.54         2   \n",
       "48  15808941    550  Ростов Великий      М   38        2  103391.38         1   \n",
       "\n",
       "    credit_card  loyalty  estimated_salary  churn  city_Ростов Великий  \\\n",
       "15            0        1          64327.26      0                    1   \n",
       "16            1        0           5097.67      1                    1   \n",
       "26            1        1         170041.95      0                    1   \n",
       "32            0        0          81898.81      0                    1   \n",
       "48            0        1          90878.13      0                    1   \n",
       "\n",
       "    city_Рыбинск  city_Ярославль  gender_Ж  gender_М  \n",
       "15             0               0         0         1  \n",
       "16             0               0         0         1  \n",
       "26             0               0         0         1  \n",
       "32             0               0         0         1  \n",
       "48             0               0         0         1  "
      ]
     },
     "execution_count": 50,
     "metadata": {},
     "output_type": "execute_result"
    }
   ],
   "source": [
    "segment1 = data.query('gender == \"М\" & age >= 35 & age <= 60 & city == \"Ростов Великий\" & balance >= 75000 & balance <= 175000')\n",
    "segment1.head()"
   ]
  },
  {
   "cell_type": "code",
   "execution_count": 51,
   "metadata": {},
   "outputs": [
    {
     "data": {
      "text/plain": [
       "743"
      ]
     },
     "execution_count": 51,
     "metadata": {},
     "output_type": "execute_result"
    }
   ],
   "source": [
    "segment1['user_id'].count()"
   ]
  },
  {
   "cell_type": "markdown",
   "metadata": {},
   "source": [
    "Количество клиентов в сегменте №1 743."
   ]
  },
  {
   "cell_type": "code",
   "execution_count": 52,
   "metadata": {},
   "outputs": [
    {
     "data": {
      "text/plain": [
       "300"
      ]
     },
     "execution_count": 52,
     "metadata": {},
     "output_type": "execute_result"
    }
   ],
   "source": [
    "segment1['churn'].sum()"
   ]
  },
  {
   "cell_type": "markdown",
   "metadata": {},
   "source": [
    "Из них отточных 300."
   ]
  },
  {
   "cell_type": "code",
   "execution_count": 53,
   "metadata": {},
   "outputs": [
    {
     "data": {
      "text/plain": [
       "40"
      ]
     },
     "execution_count": 53,
     "metadata": {},
     "output_type": "execute_result"
    }
   ],
   "source": [
    "round((segment1['churn'].sum()/segment1['user_id'].count())*100)"
   ]
  },
  {
   "cell_type": "markdown",
   "metadata": {},
   "source": [
    "Уровень оттока 40%. Выше, чем средний уровень оттока по банку(20%)."
   ]
  },
  {
   "cell_type": "code",
   "execution_count": 54,
   "metadata": {},
   "outputs": [
    {
     "data": {
      "text/html": [
       "<div>\n",
       "<style scoped>\n",
       "    .dataframe tbody tr th:only-of-type {\n",
       "        vertical-align: middle;\n",
       "    }\n",
       "\n",
       "    .dataframe tbody tr th {\n",
       "        vertical-align: top;\n",
       "    }\n",
       "\n",
       "    .dataframe thead th {\n",
       "        text-align: right;\n",
       "    }\n",
       "</style>\n",
       "<table border=\"1\" class=\"dataframe\">\n",
       "  <thead>\n",
       "    <tr style=\"text-align: right;\">\n",
       "      <th></th>\n",
       "      <th>user_id</th>\n",
       "      <th>score</th>\n",
       "      <th>city</th>\n",
       "      <th>gender</th>\n",
       "      <th>age</th>\n",
       "      <th>objects</th>\n",
       "      <th>balance</th>\n",
       "      <th>products</th>\n",
       "      <th>credit_card</th>\n",
       "      <th>loyalty</th>\n",
       "      <th>estimated_salary</th>\n",
       "      <th>churn</th>\n",
       "      <th>city_Ростов Великий</th>\n",
       "      <th>city_Рыбинск</th>\n",
       "      <th>city_Ярославль</th>\n",
       "      <th>gender_Ж</th>\n",
       "      <th>gender_М</th>\n",
       "    </tr>\n",
       "  </thead>\n",
       "  <tbody>\n",
       "    <tr>\n",
       "      <th>16</th>\n",
       "      <td>15780188</td>\n",
       "      <td>653</td>\n",
       "      <td>Ростов Великий</td>\n",
       "      <td>М</td>\n",
       "      <td>58</td>\n",
       "      <td>1</td>\n",
       "      <td>132602.88</td>\n",
       "      <td>1</td>\n",
       "      <td>1</td>\n",
       "      <td>0</td>\n",
       "      <td>5097.67</td>\n",
       "      <td>1</td>\n",
       "      <td>1</td>\n",
       "      <td>0</td>\n",
       "      <td>0</td>\n",
       "      <td>0</td>\n",
       "      <td>1</td>\n",
       "    </tr>\n",
       "    <tr>\n",
       "      <th>26</th>\n",
       "      <td>15779552</td>\n",
       "      <td>756</td>\n",
       "      <td>Ростов Великий</td>\n",
       "      <td>М</td>\n",
       "      <td>36</td>\n",
       "      <td>2</td>\n",
       "      <td>136815.64</td>\n",
       "      <td>1</td>\n",
       "      <td>1</td>\n",
       "      <td>1</td>\n",
       "      <td>170041.95</td>\n",
       "      <td>0</td>\n",
       "      <td>1</td>\n",
       "      <td>0</td>\n",
       "      <td>0</td>\n",
       "      <td>0</td>\n",
       "      <td>1</td>\n",
       "    </tr>\n",
       "    <tr>\n",
       "      <th>50</th>\n",
       "      <td>15659286</td>\n",
       "      <td>698</td>\n",
       "      <td>Ростов Великий</td>\n",
       "      <td>М</td>\n",
       "      <td>44</td>\n",
       "      <td>10</td>\n",
       "      <td>116363.37</td>\n",
       "      <td>2</td>\n",
       "      <td>1</td>\n",
       "      <td>0</td>\n",
       "      <td>198059.16</td>\n",
       "      <td>0</td>\n",
       "      <td>1</td>\n",
       "      <td>0</td>\n",
       "      <td>0</td>\n",
       "      <td>0</td>\n",
       "      <td>1</td>\n",
       "    </tr>\n",
       "    <tr>\n",
       "      <th>53</th>\n",
       "      <td>15745034</td>\n",
       "      <td>655</td>\n",
       "      <td>Ростов Великий</td>\n",
       "      <td>М</td>\n",
       "      <td>41</td>\n",
       "      <td>8</td>\n",
       "      <td>125561.97</td>\n",
       "      <td>1</td>\n",
       "      <td>0</td>\n",
       "      <td>0</td>\n",
       "      <td>164040.94</td>\n",
       "      <td>1</td>\n",
       "      <td>1</td>\n",
       "      <td>0</td>\n",
       "      <td>0</td>\n",
       "      <td>0</td>\n",
       "      <td>1</td>\n",
       "    </tr>\n",
       "    <tr>\n",
       "      <th>57</th>\n",
       "      <td>15689827</td>\n",
       "      <td>725</td>\n",
       "      <td>Ростов Великий</td>\n",
       "      <td>М</td>\n",
       "      <td>19</td>\n",
       "      <td>0</td>\n",
       "      <td>75888.20</td>\n",
       "      <td>1</td>\n",
       "      <td>0</td>\n",
       "      <td>0</td>\n",
       "      <td>45613.75</td>\n",
       "      <td>0</td>\n",
       "      <td>1</td>\n",
       "      <td>0</td>\n",
       "      <td>0</td>\n",
       "      <td>0</td>\n",
       "      <td>1</td>\n",
       "    </tr>\n",
       "  </tbody>\n",
       "</table>\n",
       "</div>"
      ],
      "text/plain": [
       "     user_id  score            city gender  age  objects    balance  products  \\\n",
       "16  15780188    653  Ростов Великий      М   58        1  132602.88         1   \n",
       "26  15779552    756  Ростов Великий      М   36        2  136815.64         1   \n",
       "50  15659286    698  Ростов Великий      М   44       10  116363.37         2   \n",
       "53  15745034    655  Ростов Великий      М   41        8  125561.97         1   \n",
       "57  15689827    725  Ростов Великий      М   19        0   75888.20         1   \n",
       "\n",
       "    credit_card  loyalty  estimated_salary  churn  city_Ростов Великий  \\\n",
       "16            1        0           5097.67      1                    1   \n",
       "26            1        1         170041.95      0                    1   \n",
       "50            1        0         198059.16      0                    1   \n",
       "53            0        0         164040.94      1                    1   \n",
       "57            0        0          45613.75      0                    1   \n",
       "\n",
       "    city_Рыбинск  city_Ярославль  gender_Ж  gender_М  \n",
       "16             0               0         0         1  \n",
       "26             0               0         0         1  \n",
       "50             0               0         0         1  \n",
       "53             0               0         0         1  \n",
       "57             0               0         0         1  "
      ]
     },
     "execution_count": 54,
     "metadata": {},
     "output_type": "execute_result"
    }
   ],
   "source": [
    "segment2 = data.query('gender == \"М\" & city == \"Ростов Великий\" & score >= 650')\n",
    "segment2.head()"
   ]
  },
  {
   "cell_type": "code",
   "execution_count": 55,
   "metadata": {},
   "outputs": [
    {
     "data": {
      "text/plain": [
       "661"
      ]
     },
     "execution_count": 55,
     "metadata": {},
     "output_type": "execute_result"
    }
   ],
   "source": [
    "segment2['user_id'].count()"
   ]
  },
  {
   "cell_type": "markdown",
   "metadata": {},
   "source": [
    "Количество клиентов в сегменте №2 661."
   ]
  },
  {
   "cell_type": "code",
   "execution_count": 56,
   "metadata": {},
   "outputs": [
    {
     "data": {
      "text/plain": [
       "171"
      ]
     },
     "execution_count": 56,
     "metadata": {},
     "output_type": "execute_result"
    }
   ],
   "source": [
    "segment2['churn'].sum()"
   ]
  },
  {
   "cell_type": "markdown",
   "metadata": {},
   "source": [
    "Из них отточных 171."
   ]
  },
  {
   "cell_type": "code",
   "execution_count": 57,
   "metadata": {},
   "outputs": [
    {
     "data": {
      "text/plain": [
       "26"
      ]
     },
     "execution_count": 57,
     "metadata": {},
     "output_type": "execute_result"
    }
   ],
   "source": [
    "round((segment2['churn'].sum()/segment2['user_id'].count())*100)"
   ]
  },
  {
   "cell_type": "markdown",
   "metadata": {},
   "source": [
    "Уровень оттока 26%. Выше, чем средний уровень оттока по банку(20%)."
   ]
  },
  {
   "cell_type": "markdown",
   "metadata": {},
   "source": [
    "### Приоритезация сегментов <a class=\"anchor\" id=\"6.1\"></a>"
   ]
  },
  {
   "cell_type": "markdown",
   "metadata": {},
   "source": [
    "Приоритетным сегментом будем считать сегмент №1(с уровнем оттока 40%)."
   ]
  },
  {
   "cell_type": "markdown",
   "metadata": {},
   "source": [
    "## Рекомендации заказчику по сегментам <a class=\"anchor\" id=\"7\"></a>"
   ]
  },
  {
   "cell_type": "markdown",
   "metadata": {},
   "source": [
    "**Сегмент №1:**\n",
    "- уровень оттока 40%\n",
    "- количество клиентов 743\n",
    "- мужчины\n",
    "- 35-60 лет\n",
    "- проживающие в Ростове Великом\n",
    "- с балансом 75000-175000 \n",
    "\n",
    "Рекомендация:\n",
    "- так как в данном сегменте у клиентов достаточно большая сумма на балансе, скорее всего отток связан с невыгодными условиями хранения средств. Рекомендацией будет предложение вкладов на выгодных условиях при пополнении более чем на 70000.\n",
    "\n",
    "**Сегмент №2:**\n",
    "- уровень оттока 26%\n",
    "- количество клиентов 661\n",
    "- мужчины\n",
    "- проживающие в Ростове Великом\n",
    "- с хорошим и отличным кредитным скорингом >650\n",
    "\n",
    "Рекомендация:\n",
    "- предложение выгодных кредитов на недвижимость в Ростове Великом."
   ]
  },
  {
   "cell_type": "markdown",
   "metadata": {},
   "source": [
    "## Вывод <a class=\"anchor\" id=\"8\"></a>"
   ]
  },
  {
   "cell_type": "markdown",
   "metadata": {},
   "source": [
    "Таким образом, в рамках проекта был проанализирован отток пользователей банка и даны рекомендации по сегментам отточных клиентов.\n",
    "\n",
    "- Общий средний уровень оттока клиентов равен ~20%.\n",
    "\n",
    "- Признак Score делаится на 4 категории:\n",
    "\n",
    "    - 300-500 - Нет шансов получить заем\n",
    "    - 600-650 - Низкий балл, крупные финансовые организации не рассматривают\n",
    "    - 650-690 - Хороший балл, есть шансы на одобрение займа со стандартными условиями\n",
    "    - 690-850 - Отличный балл, одобрить заем могут с более выгодными условиями\n",
    "\n",
    "- Категории возраста клиентов можно разделить на 3:\n",
    "\n",
    "    - до 35\n",
    "    - 35-60\n",
    "    - старше 60\n",
    "\n",
    "- Баланс разделим на следующие категории:\n",
    "\n",
    "    - менее 75000\n",
    "    - 75000-175000\n",
    "    - более 175000\n",
    "\n",
    "- Самый отточный город - Ростов Великий.\n",
    "\n",
    "- Мужчинам более свойственно уходить.\n",
    "\n",
    "- Более менее значимая корреляция между оттоком и возрастом, а также проживанием в Ростове Великом и балансом.\n",
    "\n",
    "- по результатам проверки гипотез:\n",
    "\n",
    "    - Гипотеза №1. \n",
    "        - H0: Доход отточных клиентов равен доходу текущих.\n",
    "        - H1: Доходы отточных и текущих клиентов не равны.\n",
    "        - alpha = 0.05\n",
    "        - Не отвергаем нулевую гипотезу: разницы между доходом отточных и текущих клиентов нет.\n",
    "\n",
    "    - Гипотеза №2. \n",
    "        - H0: Возраст отточных клиентов равен возрасту текущих.\n",
    "        - H1: Возраст отточных и текущих клиентов не равны.\n",
    "        - alpha = 0.05\n",
    "        - отвергаем нулевую гипотезу и считаем, что возраст отточных и текущих клиентов различается.\n",
    "        \n",
    "- были выделены слудующие сегменты отточных клиентов:\n",
    "    - Сегмент №1:\n",
    "        - уровень оттока 40%\n",
    "        - количество клиентов 743\n",
    "        - мужчины\n",
    "        - 35-60 лет\n",
    "        - проживающие в Ростове Великом\n",
    "        - с балансом 75000-175000\n",
    "    - Сегмент №2:\n",
    "        - уровень оттока 26%\n",
    "        - количество клиентов 661\n",
    "        - мужчины\n",
    "        - проживающие в Ростове Великом\n",
    "        - с хорошим и отличным кредитным скорингом >650\n",
    "\n",
    "- даны слудующие рекомендации:\n",
    "    - для сегмента №1\n",
    "        - так как в данном сегменте у клиентов достаточно большая сумма на балансе, скорее всего отток связан с невыгодными условиями хранения средств. Рекомендацией будет предложение вкладов на выгодных условиях при пополнении более чем на 70000.\n",
    "    - для сегмента №2\n",
    "        - предложение выгодных кредитов на недвижимость в Ростове Великом."
   ]
  }
 ],
 "metadata": {
  "ExecuteTimeLog": [
   {
    "duration": 467,
    "start_time": "2023-04-04T19:49:56.306Z"
   },
   {
    "duration": 71,
    "start_time": "2023-04-04T19:59:51.412Z"
   },
   {
    "duration": 50,
    "start_time": "2023-04-04T20:00:31.358Z"
   },
   {
    "duration": 88,
    "start_time": "2023-04-04T20:00:52.836Z"
   },
   {
    "duration": 174,
    "start_time": "2023-04-04T20:01:03.979Z"
   },
   {
    "duration": 21,
    "start_time": "2023-04-04T20:01:12.233Z"
   },
   {
    "duration": 18,
    "start_time": "2023-04-04T20:30:54.441Z"
   },
   {
    "duration": 10,
    "start_time": "2023-04-04T20:35:35.387Z"
   },
   {
    "duration": 11,
    "start_time": "2023-04-04T20:36:09.737Z"
   },
   {
    "duration": 17,
    "start_time": "2023-04-04T20:36:31.353Z"
   },
   {
    "duration": 7,
    "start_time": "2023-04-04T20:36:38.355Z"
   },
   {
    "duration": 12,
    "start_time": "2023-04-04T20:38:11.514Z"
   },
   {
    "duration": 4,
    "start_time": "2023-04-04T20:44:02.670Z"
   },
   {
    "duration": 12,
    "start_time": "2023-04-04T20:44:14.356Z"
   },
   {
    "duration": 5,
    "start_time": "2023-04-04T20:47:46.681Z"
   },
   {
    "duration": 12,
    "start_time": "2023-04-04T20:47:53.716Z"
   },
   {
    "duration": 62,
    "start_time": "2023-04-04T20:51:43.678Z"
   },
   {
    "duration": 13,
    "start_time": "2023-04-04T20:51:50.400Z"
   },
   {
    "duration": 11,
    "start_time": "2023-04-04T20:52:00.193Z"
   },
   {
    "duration": 47,
    "start_time": "2023-04-04T21:22:28.604Z"
   },
   {
    "duration": 11,
    "start_time": "2023-04-04T21:22:37.255Z"
   },
   {
    "duration": 5,
    "start_time": "2023-04-04T21:23:07.290Z"
   },
   {
    "duration": 4,
    "start_time": "2023-04-04T21:23:17.985Z"
   },
   {
    "duration": 14,
    "start_time": "2023-04-04T21:23:28.256Z"
   },
   {
    "duration": 7,
    "start_time": "2023-04-04T21:25:14.632Z"
   },
   {
    "duration": 8,
    "start_time": "2023-04-04T21:25:20.975Z"
   },
   {
    "duration": 14,
    "start_time": "2023-04-04T21:25:50.190Z"
   },
   {
    "duration": 12,
    "start_time": "2023-04-04T21:26:09.949Z"
   },
   {
    "duration": 8,
    "start_time": "2023-04-04T21:26:22.835Z"
   },
   {
    "duration": 17,
    "start_time": "2023-04-04T21:27:13.683Z"
   },
   {
    "duration": 7,
    "start_time": "2023-04-04T21:27:39.553Z"
   },
   {
    "duration": 10,
    "start_time": "2023-04-04T21:27:49.589Z"
   },
   {
    "duration": 12,
    "start_time": "2023-04-04T21:29:40.517Z"
   },
   {
    "duration": 7,
    "start_time": "2023-04-04T21:29:59.165Z"
   },
   {
    "duration": 22,
    "start_time": "2023-04-04T21:30:06.398Z"
   },
   {
    "duration": 20,
    "start_time": "2023-04-04T22:29:23.074Z"
   },
   {
    "duration": 129,
    "start_time": "2023-04-04T22:47:20.653Z"
   },
   {
    "duration": 401,
    "start_time": "2023-04-04T22:51:03.132Z"
   },
   {
    "duration": 91,
    "start_time": "2023-04-04T22:52:59.175Z"
   },
   {
    "duration": 172,
    "start_time": "2023-04-04T22:53:08.587Z"
   },
   {
    "duration": 155,
    "start_time": "2023-04-04T22:54:03.574Z"
   },
   {
    "duration": 82,
    "start_time": "2023-04-04T22:54:41.380Z"
   },
   {
    "duration": 77,
    "start_time": "2023-04-04T22:56:11.781Z"
   },
   {
    "duration": 79,
    "start_time": "2023-04-04T22:57:11.152Z"
   },
   {
    "duration": 4,
    "start_time": "2023-04-04T22:58:34.204Z"
   },
   {
    "duration": 194,
    "start_time": "2023-04-04T23:13:29.922Z"
   },
   {
    "duration": 124,
    "start_time": "2023-04-04T23:15:09.136Z"
   },
   {
    "duration": 94,
    "start_time": "2023-04-04T23:15:15.610Z"
   },
   {
    "duration": 99,
    "start_time": "2023-04-04T23:16:13.118Z"
   },
   {
    "duration": 73,
    "start_time": "2023-04-04T23:17:12.595Z"
   },
   {
    "duration": 80,
    "start_time": "2023-04-04T23:17:15.126Z"
   },
   {
    "duration": 81,
    "start_time": "2023-04-04T23:17:19.554Z"
   },
   {
    "duration": 94,
    "start_time": "2023-04-04T23:20:29.575Z"
   },
   {
    "duration": 148,
    "start_time": "2023-04-04T23:20:44.620Z"
   },
   {
    "duration": 77,
    "start_time": "2023-04-04T23:20:49.761Z"
   },
   {
    "duration": 90,
    "start_time": "2023-04-04T23:22:26.890Z"
   },
   {
    "duration": 236,
    "start_time": "2023-04-04T23:23:44.387Z"
   },
   {
    "duration": 105,
    "start_time": "2023-04-04T23:23:49.236Z"
   },
   {
    "duration": 114,
    "start_time": "2023-04-04T23:23:59.191Z"
   },
   {
    "duration": 144,
    "start_time": "2023-04-04T23:25:36.108Z"
   },
   {
    "duration": 87,
    "start_time": "2023-04-04T23:25:45.077Z"
   },
   {
    "duration": 47,
    "start_time": "2023-04-04T23:27:57.808Z"
   },
   {
    "duration": 13,
    "start_time": "2023-04-04T23:28:13.377Z"
   },
   {
    "duration": 115,
    "start_time": "2023-04-04T23:28:19.135Z"
   },
   {
    "duration": 83,
    "start_time": "2023-04-04T23:28:33.600Z"
   },
   {
    "duration": 144,
    "start_time": "2023-04-04T23:30:32.947Z"
   },
   {
    "duration": 60,
    "start_time": "2023-04-04T23:36:21.621Z"
   },
   {
    "duration": 23,
    "start_time": "2023-04-04T23:36:26.707Z"
   },
   {
    "duration": 49,
    "start_time": "2023-04-04T23:37:04.435Z"
   },
   {
    "duration": 467,
    "start_time": "2023-04-05T02:38:50.897Z"
   },
   {
    "duration": 210,
    "start_time": "2023-04-05T02:38:51.366Z"
   },
   {
    "duration": 19,
    "start_time": "2023-04-05T02:38:51.577Z"
   },
   {
    "duration": 17,
    "start_time": "2023-04-05T02:38:51.598Z"
   },
   {
    "duration": 25,
    "start_time": "2023-04-05T02:38:51.617Z"
   },
   {
    "duration": 58,
    "start_time": "2023-04-05T02:38:51.644Z"
   },
   {
    "duration": 32,
    "start_time": "2023-04-05T02:38:51.704Z"
   },
   {
    "duration": 38,
    "start_time": "2023-04-05T02:38:51.738Z"
   },
   {
    "duration": 47,
    "start_time": "2023-04-05T02:38:51.777Z"
   },
   {
    "duration": 48,
    "start_time": "2023-04-05T02:38:51.827Z"
   },
   {
    "duration": 4,
    "start_time": "2023-04-05T02:38:51.876Z"
   },
   {
    "duration": 25,
    "start_time": "2023-04-05T02:38:51.882Z"
   },
   {
    "duration": 16,
    "start_time": "2023-04-05T02:38:51.909Z"
   },
   {
    "duration": 39,
    "start_time": "2023-04-05T02:38:51.927Z"
   },
   {
    "duration": 21,
    "start_time": "2023-04-05T02:38:51.968Z"
   },
   {
    "duration": 396,
    "start_time": "2023-04-05T02:38:51.991Z"
   },
   {
    "duration": 162,
    "start_time": "2023-04-05T02:38:52.389Z"
   },
   {
    "duration": 174,
    "start_time": "2023-04-05T02:38:52.552Z"
   },
   {
    "duration": 78,
    "start_time": "2023-04-05T02:38:52.727Z"
   },
   {
    "duration": 93,
    "start_time": "2023-04-05T02:38:52.807Z"
   },
   {
    "duration": 96,
    "start_time": "2023-04-05T02:38:52.902Z"
   },
   {
    "duration": 139,
    "start_time": "2023-04-05T02:38:52.999Z"
   },
   {
    "duration": 73,
    "start_time": "2023-04-05T02:38:53.140Z"
   },
   {
    "duration": 62,
    "start_time": "2023-04-05T02:38:53.234Z"
   },
   {
    "duration": 74,
    "start_time": "2023-04-05T02:39:09.148Z"
   },
   {
    "duration": 74,
    "start_time": "2023-04-05T02:39:23.513Z"
   },
   {
    "duration": 3,
    "start_time": "2023-04-05T02:40:25.106Z"
   },
   {
    "duration": 86,
    "start_time": "2023-04-05T02:40:27.674Z"
   },
   {
    "duration": 141,
    "start_time": "2023-04-05T02:40:46.234Z"
   },
   {
    "duration": 13,
    "start_time": "2023-04-05T02:41:00.006Z"
   },
   {
    "duration": 7,
    "start_time": "2023-04-05T02:42:42.484Z"
   },
   {
    "duration": 13,
    "start_time": "2023-04-05T02:42:43.779Z"
   },
   {
    "duration": 205,
    "start_time": "2023-04-05T02:44:14.070Z"
   },
   {
    "duration": 125,
    "start_time": "2023-04-05T02:44:20.172Z"
   },
   {
    "duration": 50,
    "start_time": "2023-04-05T02:44:28.081Z"
   },
   {
    "duration": 841,
    "start_time": "2023-04-05T02:46:49.156Z"
   },
   {
    "duration": 3,
    "start_time": "2023-04-05T02:50:33.220Z"
   },
   {
    "duration": 370,
    "start_time": "2023-04-05T02:54:16.010Z"
   },
   {
    "duration": 330,
    "start_time": "2023-04-05T02:54:29.284Z"
   },
   {
    "duration": 1249,
    "start_time": "2023-04-05T02:54:50.437Z"
   },
   {
    "duration": 39,
    "start_time": "2023-04-05T02:54:51.688Z"
   },
   {
    "duration": 14,
    "start_time": "2023-04-05T02:54:51.728Z"
   },
   {
    "duration": 18,
    "start_time": "2023-04-05T02:54:51.744Z"
   },
   {
    "duration": 14,
    "start_time": "2023-04-05T02:54:51.764Z"
   },
   {
    "duration": 22,
    "start_time": "2023-04-05T02:54:51.780Z"
   },
   {
    "duration": 12,
    "start_time": "2023-04-05T02:54:51.803Z"
   },
   {
    "duration": 17,
    "start_time": "2023-04-05T02:54:51.816Z"
   },
   {
    "duration": 25,
    "start_time": "2023-04-05T02:54:51.834Z"
   },
   {
    "duration": 38,
    "start_time": "2023-04-05T02:54:51.861Z"
   },
   {
    "duration": 4,
    "start_time": "2023-04-05T02:54:51.900Z"
   },
   {
    "duration": 31,
    "start_time": "2023-04-05T02:54:51.906Z"
   },
   {
    "duration": 22,
    "start_time": "2023-04-05T02:54:51.938Z"
   },
   {
    "duration": 23,
    "start_time": "2023-04-05T02:54:51.961Z"
   },
   {
    "duration": 18,
    "start_time": "2023-04-05T02:54:51.985Z"
   },
   {
    "duration": 337,
    "start_time": "2023-04-05T02:54:52.004Z"
   },
   {
    "duration": 458,
    "start_time": "2023-04-05T02:54:52.343Z"
   },
   {
    "duration": 158,
    "start_time": "2023-04-05T02:54:52.802Z"
   },
   {
    "duration": 143,
    "start_time": "2023-04-05T02:54:52.962Z"
   },
   {
    "duration": 96,
    "start_time": "2023-04-05T02:54:53.107Z"
   },
   {
    "duration": 177,
    "start_time": "2023-04-05T02:54:53.205Z"
   },
   {
    "duration": 101,
    "start_time": "2023-04-05T02:54:53.384Z"
   },
   {
    "duration": 9,
    "start_time": "2023-04-05T02:54:53.486Z"
   },
   {
    "duration": 42,
    "start_time": "2023-04-05T02:54:53.497Z"
   },
   {
    "duration": 53,
    "start_time": "2023-04-05T02:54:53.541Z"
   },
   {
    "duration": 103,
    "start_time": "2023-04-05T02:54:53.595Z"
   },
   {
    "duration": 65,
    "start_time": "2023-04-05T02:54:53.700Z"
   },
   {
    "duration": 331,
    "start_time": "2023-04-05T02:59:50.834Z"
   },
   {
    "duration": 143,
    "start_time": "2023-04-05T03:00:02.082Z"
   },
   {
    "duration": 359,
    "start_time": "2023-04-05T03:04:20.214Z"
   },
   {
    "duration": 10,
    "start_time": "2023-04-05T03:05:03.389Z"
   },
   {
    "duration": 449,
    "start_time": "2023-04-05T03:05:27.702Z"
   },
   {
    "duration": 336,
    "start_time": "2023-04-05T03:05:56.756Z"
   },
   {
    "duration": 4,
    "start_time": "2023-04-05T03:09:13.234Z"
   },
   {
    "duration": 365,
    "start_time": "2023-04-05T03:10:22.822Z"
   },
   {
    "duration": 445,
    "start_time": "2023-04-05T03:11:50.549Z"
   },
   {
    "duration": 296,
    "start_time": "2023-04-05T03:13:35.392Z"
   },
   {
    "duration": 302,
    "start_time": "2023-04-05T03:14:53.294Z"
   },
   {
    "duration": 65,
    "start_time": "2023-04-05T03:17:45.559Z"
   },
   {
    "duration": 3352,
    "start_time": "2023-04-05T03:18:26.313Z"
   },
   {
    "duration": 3524,
    "start_time": "2023-04-05T03:20:15.294Z"
   },
   {
    "duration": 177,
    "start_time": "2023-04-05T03:27:46.274Z"
   },
   {
    "duration": 408,
    "start_time": "2023-04-05T03:28:04.444Z"
   },
   {
    "duration": 191,
    "start_time": "2023-04-05T03:29:34.639Z"
   },
   {
    "duration": 176,
    "start_time": "2023-04-05T03:29:53.538Z"
   },
   {
    "duration": 230,
    "start_time": "2023-04-05T03:31:18.527Z"
   },
   {
    "duration": 174,
    "start_time": "2023-04-05T03:31:34.051Z"
   },
   {
    "duration": 193,
    "start_time": "2023-04-05T03:31:46.594Z"
   },
   {
    "duration": 5,
    "start_time": "2023-04-05T03:33:40.248Z"
   },
   {
    "duration": 184,
    "start_time": "2023-04-05T03:34:20.644Z"
   },
   {
    "duration": 165,
    "start_time": "2023-04-05T03:36:27.126Z"
   },
   {
    "duration": 273,
    "start_time": "2023-04-05T03:37:18.729Z"
   },
   {
    "duration": 1267,
    "start_time": "2023-04-05T03:38:57.040Z"
   },
   {
    "duration": 39,
    "start_time": "2023-04-05T03:38:58.309Z"
   },
   {
    "duration": 13,
    "start_time": "2023-04-05T03:38:58.350Z"
   },
   {
    "duration": 17,
    "start_time": "2023-04-05T03:38:58.366Z"
   },
   {
    "duration": 10,
    "start_time": "2023-04-05T03:38:58.384Z"
   },
   {
    "duration": 17,
    "start_time": "2023-04-05T03:38:58.395Z"
   },
   {
    "duration": 10,
    "start_time": "2023-04-05T03:38:58.414Z"
   },
   {
    "duration": 3,
    "start_time": "2023-04-05T03:38:58.434Z"
   },
   {
    "duration": 19,
    "start_time": "2023-04-05T03:38:58.439Z"
   },
   {
    "duration": 24,
    "start_time": "2023-04-05T03:38:58.462Z"
   },
   {
    "duration": 10,
    "start_time": "2023-04-05T03:38:58.488Z"
   },
   {
    "duration": 22,
    "start_time": "2023-04-05T03:38:58.500Z"
   },
   {
    "duration": 11,
    "start_time": "2023-04-05T03:38:58.524Z"
   },
   {
    "duration": 7,
    "start_time": "2023-04-05T03:38:58.537Z"
   },
   {
    "duration": 13,
    "start_time": "2023-04-05T03:38:58.546Z"
   },
   {
    "duration": 7,
    "start_time": "2023-04-05T03:38:58.560Z"
   },
   {
    "duration": 368,
    "start_time": "2023-04-05T03:38:58.568Z"
   },
   {
    "duration": 440,
    "start_time": "2023-04-05T03:38:58.938Z"
   },
   {
    "duration": 366,
    "start_time": "2023-04-05T03:38:59.380Z"
   },
   {
    "duration": 412,
    "start_time": "2023-04-05T03:38:59.748Z"
   },
   {
    "duration": 5,
    "start_time": "2023-04-05T03:39:00.163Z"
   },
   {
    "duration": 216,
    "start_time": "2023-04-05T03:39:00.170Z"
   },
   {
    "duration": 158,
    "start_time": "2023-04-05T03:39:00.388Z"
   },
   {
    "duration": 261,
    "start_time": "2023-04-05T03:39:00.548Z"
   },
   {
    "duration": 389,
    "start_time": "2023-04-05T03:39:00.812Z"
   },
   {
    "duration": 219,
    "start_time": "2023-04-05T03:39:01.203Z"
   },
   {
    "duration": 50,
    "start_time": "2023-04-05T03:39:01.424Z"
   },
   {
    "duration": 173,
    "start_time": "2023-04-05T03:39:50.485Z"
   },
   {
    "duration": 238,
    "start_time": "2023-04-05T03:39:57.055Z"
   },
   {
    "duration": 161,
    "start_time": "2023-04-05T03:40:48.149Z"
   },
   {
    "duration": 152,
    "start_time": "2023-04-05T03:42:46.580Z"
   },
   {
    "duration": 3,
    "start_time": "2023-04-05T03:55:58.959Z"
   },
   {
    "duration": 5,
    "start_time": "2023-04-05T03:56:08.040Z"
   },
   {
    "duration": 4,
    "start_time": "2023-04-05T04:23:00.370Z"
   },
   {
    "duration": 3,
    "start_time": "2023-04-05T04:23:13.059Z"
   },
   {
    "duration": 1301,
    "start_time": "2023-04-05T04:23:24.109Z"
   },
   {
    "duration": 45,
    "start_time": "2023-04-05T04:23:25.412Z"
   },
   {
    "duration": 15,
    "start_time": "2023-04-05T04:23:25.459Z"
   },
   {
    "duration": 12,
    "start_time": "2023-04-05T04:23:25.476Z"
   },
   {
    "duration": 4,
    "start_time": "2023-04-05T04:23:25.490Z"
   },
   {
    "duration": 14,
    "start_time": "2023-04-05T04:23:25.496Z"
   },
   {
    "duration": 26,
    "start_time": "2023-04-05T04:23:25.512Z"
   },
   {
    "duration": 13,
    "start_time": "2023-04-05T04:23:25.539Z"
   },
   {
    "duration": 14,
    "start_time": "2023-04-05T04:23:25.554Z"
   },
   {
    "duration": 13,
    "start_time": "2023-04-05T04:23:25.570Z"
   },
   {
    "duration": 10,
    "start_time": "2023-04-05T04:23:25.585Z"
   },
   {
    "duration": 12,
    "start_time": "2023-04-05T04:23:25.597Z"
   },
   {
    "duration": 8,
    "start_time": "2023-04-05T04:23:25.611Z"
   },
   {
    "duration": 19,
    "start_time": "2023-04-05T04:23:25.620Z"
   },
   {
    "duration": 19,
    "start_time": "2023-04-05T04:23:25.641Z"
   },
   {
    "duration": 6,
    "start_time": "2023-04-05T04:23:25.661Z"
   },
   {
    "duration": 350,
    "start_time": "2023-04-05T04:23:25.668Z"
   },
   {
    "duration": 429,
    "start_time": "2023-04-05T04:23:26.020Z"
   },
   {
    "duration": 300,
    "start_time": "2023-04-05T04:23:26.450Z"
   },
   {
    "duration": 379,
    "start_time": "2023-04-05T04:23:26.751Z"
   },
   {
    "duration": 3,
    "start_time": "2023-04-05T04:23:27.134Z"
   },
   {
    "duration": 204,
    "start_time": "2023-04-05T04:23:27.139Z"
   },
   {
    "duration": 164,
    "start_time": "2023-04-05T04:23:27.345Z"
   },
   {
    "duration": 259,
    "start_time": "2023-04-05T04:23:27.510Z"
   },
   {
    "duration": 188,
    "start_time": "2023-04-05T04:23:27.771Z"
   },
   {
    "duration": 178,
    "start_time": "2023-04-05T04:23:27.961Z"
   },
   {
    "duration": 167,
    "start_time": "2023-04-05T04:23:28.141Z"
   },
   {
    "duration": 5,
    "start_time": "2023-04-05T04:23:28.310Z"
   },
   {
    "duration": 20,
    "start_time": "2023-04-05T04:23:28.316Z"
   },
   {
    "duration": 532,
    "start_time": "2023-04-05T04:24:29.361Z"
   },
   {
    "duration": 3,
    "start_time": "2023-04-05T04:27:27.062Z"
   },
   {
    "duration": 500,
    "start_time": "2023-04-05T04:27:28.486Z"
   },
   {
    "duration": 5,
    "start_time": "2023-04-05T04:28:39.460Z"
   },
   {
    "duration": 594,
    "start_time": "2023-04-05T04:28:40.189Z"
   },
   {
    "duration": 4,
    "start_time": "2023-04-05T04:29:02.122Z"
   },
   {
    "duration": 580,
    "start_time": "2023-04-05T04:29:04.412Z"
   },
   {
    "duration": 5,
    "start_time": "2023-04-05T04:32:04.639Z"
   },
   {
    "duration": 559,
    "start_time": "2023-04-05T04:32:08.532Z"
   },
   {
    "duration": 544,
    "start_time": "2023-04-05T04:32:24.548Z"
   },
   {
    "duration": 6,
    "start_time": "2023-04-05T04:33:55.436Z"
   },
   {
    "duration": 435,
    "start_time": "2023-04-05T04:33:57.961Z"
   },
   {
    "duration": 1495,
    "start_time": "2023-04-05T04:35:14.613Z"
   },
   {
    "duration": 39,
    "start_time": "2023-04-05T04:35:16.109Z"
   },
   {
    "duration": 19,
    "start_time": "2023-04-05T04:35:16.150Z"
   },
   {
    "duration": 17,
    "start_time": "2023-04-05T04:35:16.172Z"
   },
   {
    "duration": 3,
    "start_time": "2023-04-05T04:35:16.191Z"
   },
   {
    "duration": 15,
    "start_time": "2023-04-05T04:35:16.196Z"
   },
   {
    "duration": 7,
    "start_time": "2023-04-05T04:35:16.235Z"
   },
   {
    "duration": 3,
    "start_time": "2023-04-05T04:35:16.245Z"
   },
   {
    "duration": 17,
    "start_time": "2023-04-05T04:35:16.250Z"
   },
   {
    "duration": 12,
    "start_time": "2023-04-05T04:35:16.270Z"
   },
   {
    "duration": 5,
    "start_time": "2023-04-05T04:35:16.284Z"
   },
   {
    "duration": 16,
    "start_time": "2023-04-05T04:35:16.290Z"
   },
   {
    "duration": 32,
    "start_time": "2023-04-05T04:35:16.307Z"
   },
   {
    "duration": 13,
    "start_time": "2023-04-05T04:35:16.341Z"
   },
   {
    "duration": 21,
    "start_time": "2023-04-05T04:35:16.356Z"
   },
   {
    "duration": 14,
    "start_time": "2023-04-05T04:35:16.379Z"
   },
   {
    "duration": 370,
    "start_time": "2023-04-05T04:35:16.394Z"
   },
   {
    "duration": 458,
    "start_time": "2023-04-05T04:35:16.766Z"
   },
   {
    "duration": 319,
    "start_time": "2023-04-05T04:35:17.225Z"
   },
   {
    "duration": 433,
    "start_time": "2023-04-05T04:35:17.546Z"
   },
   {
    "duration": 5,
    "start_time": "2023-04-05T04:35:17.980Z"
   },
   {
    "duration": 235,
    "start_time": "2023-04-05T04:35:17.986Z"
   },
   {
    "duration": 169,
    "start_time": "2023-04-05T04:35:18.222Z"
   },
   {
    "duration": 260,
    "start_time": "2023-04-05T04:35:18.393Z"
   },
   {
    "duration": 231,
    "start_time": "2023-04-05T04:35:18.655Z"
   },
   {
    "duration": 175,
    "start_time": "2023-04-05T04:35:18.888Z"
   },
   {
    "duration": 164,
    "start_time": "2023-04-05T04:35:19.065Z"
   },
   {
    "duration": 4,
    "start_time": "2023-04-05T04:35:19.235Z"
   },
   {
    "duration": 6,
    "start_time": "2023-04-05T04:35:19.241Z"
   },
   {
    "duration": 586,
    "start_time": "2023-04-05T04:35:19.248Z"
   },
   {
    "duration": 4,
    "start_time": "2023-04-05T04:35:30.215Z"
   },
   {
    "duration": 660,
    "start_time": "2023-04-05T04:35:31.029Z"
   },
   {
    "duration": 414,
    "start_time": "2023-04-05T04:38:45.891Z"
   },
   {
    "duration": 394,
    "start_time": "2023-04-05T04:39:52.808Z"
   },
   {
    "duration": 369,
    "start_time": "2023-04-05T04:40:04.777Z"
   },
   {
    "duration": 506,
    "start_time": "2023-04-05T04:40:13.428Z"
   },
   {
    "duration": 423,
    "start_time": "2023-04-05T04:40:24.794Z"
   },
   {
    "duration": 495,
    "start_time": "2023-04-05T04:40:29.316Z"
   },
   {
    "duration": 9,
    "start_time": "2023-04-05T04:48:01.311Z"
   },
   {
    "duration": 9,
    "start_time": "2023-04-05T04:48:08.054Z"
   },
   {
    "duration": 8,
    "start_time": "2023-04-05T04:49:06.355Z"
   },
   {
    "duration": 7,
    "start_time": "2023-04-05T04:49:06.958Z"
   },
   {
    "duration": 120,
    "start_time": "2023-04-05T04:49:31.357Z"
   },
   {
    "duration": 12,
    "start_time": "2023-04-05T04:50:11.354Z"
   },
   {
    "duration": 12,
    "start_time": "2023-04-05T04:50:12.800Z"
   },
   {
    "duration": 1060,
    "start_time": "2023-04-05T04:52:27.152Z"
   },
   {
    "duration": 8,
    "start_time": "2023-04-05T04:53:03.778Z"
   },
   {
    "duration": 1414,
    "start_time": "2023-04-05T04:53:05.259Z"
   },
   {
    "duration": 3,
    "start_time": "2023-04-05T04:53:14.285Z"
   },
   {
    "duration": 293,
    "start_time": "2023-04-05T04:57:01.097Z"
   },
   {
    "duration": 275,
    "start_time": "2023-04-05T04:57:11.825Z"
   },
   {
    "duration": 14,
    "start_time": "2023-04-05T04:59:14.780Z"
   },
   {
    "duration": 338,
    "start_time": "2023-04-05T04:59:44.905Z"
   },
   {
    "duration": 11,
    "start_time": "2023-04-05T05:01:21.387Z"
   },
   {
    "duration": 361,
    "start_time": "2023-04-05T05:02:14.889Z"
   },
   {
    "duration": 9,
    "start_time": "2023-04-05T05:04:52.676Z"
   },
   {
    "duration": 289,
    "start_time": "2023-04-05T05:04:53.462Z"
   },
   {
    "duration": 14,
    "start_time": "2023-04-05T05:05:40.052Z"
   },
   {
    "duration": 15,
    "start_time": "2023-04-05T05:06:03.818Z"
   },
   {
    "duration": 344,
    "start_time": "2023-04-05T05:06:06.963Z"
   },
   {
    "duration": 13,
    "start_time": "2023-04-05T05:10:50.812Z"
   },
   {
    "duration": 219,
    "start_time": "2023-04-05T05:11:58.186Z"
   },
   {
    "duration": 13,
    "start_time": "2023-04-05T05:13:28.652Z"
   },
   {
    "duration": 270,
    "start_time": "2023-04-05T05:14:34.150Z"
   },
   {
    "duration": 16,
    "start_time": "2023-04-05T05:15:33.351Z"
   },
   {
    "duration": 239,
    "start_time": "2023-04-05T05:15:57.553Z"
   },
   {
    "duration": 278,
    "start_time": "2023-04-05T05:16:04.639Z"
   },
   {
    "duration": 1792,
    "start_time": "2023-04-05T05:26:03.927Z"
   },
   {
    "duration": 1773,
    "start_time": "2023-04-05T05:26:47.010Z"
   },
   {
    "duration": 1702,
    "start_time": "2023-04-05T05:30:08.475Z"
   },
   {
    "duration": 943,
    "start_time": "2023-04-05T05:30:19.844Z"
   },
   {
    "duration": 1925,
    "start_time": "2023-04-05T05:32:16.687Z"
   },
   {
    "duration": 2,
    "start_time": "2023-04-05T05:52:28.655Z"
   },
   {
    "duration": 7,
    "start_time": "2023-04-05T05:55:47.971Z"
   },
   {
    "duration": 7,
    "start_time": "2023-04-05T05:59:51.071Z"
   },
   {
    "duration": 7,
    "start_time": "2023-04-05T06:04:52.920Z"
   },
   {
    "duration": 23,
    "start_time": "2023-04-05T06:26:24.631Z"
   },
   {
    "duration": 15,
    "start_time": "2023-04-05T06:35:53.140Z"
   },
   {
    "duration": 13,
    "start_time": "2023-04-05T06:36:04.043Z"
   },
   {
    "duration": 11,
    "start_time": "2023-04-05T06:36:40.175Z"
   },
   {
    "duration": 13,
    "start_time": "2023-04-05T06:37:29.350Z"
   },
   {
    "duration": 11,
    "start_time": "2023-04-05T06:39:30.196Z"
   },
   {
    "duration": 14,
    "start_time": "2023-04-05T06:40:22.010Z"
   },
   {
    "duration": 11,
    "start_time": "2023-04-05T06:40:53.947Z"
   },
   {
    "duration": 12,
    "start_time": "2023-04-05T06:41:06.174Z"
   },
   {
    "duration": 11,
    "start_time": "2023-04-05T06:41:12.011Z"
   },
   {
    "duration": 10,
    "start_time": "2023-04-05T06:42:48.814Z"
   },
   {
    "duration": 9,
    "start_time": "2023-04-05T06:43:03.251Z"
   },
   {
    "duration": 1266,
    "start_time": "2023-04-05T11:56:47.148Z"
   },
   {
    "duration": 37,
    "start_time": "2023-04-05T11:56:48.416Z"
   },
   {
    "duration": 14,
    "start_time": "2023-04-05T11:56:48.455Z"
   },
   {
    "duration": 52,
    "start_time": "2023-04-05T11:56:48.470Z"
   },
   {
    "duration": 26,
    "start_time": "2023-04-05T11:56:48.525Z"
   },
   {
    "duration": 72,
    "start_time": "2023-04-05T11:56:48.553Z"
   },
   {
    "duration": 21,
    "start_time": "2023-04-05T11:56:48.627Z"
   },
   {
    "duration": 114,
    "start_time": "2023-04-05T11:56:48.649Z"
   },
   {
    "duration": 253,
    "start_time": "2023-04-05T11:56:48.764Z"
   },
   {
    "duration": 79,
    "start_time": "2023-04-05T11:56:49.019Z"
   },
   {
    "duration": 39,
    "start_time": "2023-04-05T11:56:49.100Z"
   },
   {
    "duration": 63,
    "start_time": "2023-04-05T11:56:49.141Z"
   },
   {
    "duration": 49,
    "start_time": "2023-04-05T11:56:49.206Z"
   },
   {
    "duration": 55,
    "start_time": "2023-04-05T11:56:49.258Z"
   },
   {
    "duration": 47,
    "start_time": "2023-04-05T11:56:49.315Z"
   },
   {
    "duration": 45,
    "start_time": "2023-04-05T11:56:49.364Z"
   },
   {
    "duration": 452,
    "start_time": "2023-04-05T11:56:49.411Z"
   },
   {
    "duration": 483,
    "start_time": "2023-04-05T11:56:49.865Z"
   },
   {
    "duration": 334,
    "start_time": "2023-04-05T11:56:50.350Z"
   },
   {
    "duration": 440,
    "start_time": "2023-04-05T11:56:50.690Z"
   },
   {
    "duration": 4,
    "start_time": "2023-04-05T11:56:51.133Z"
   },
   {
    "duration": 220,
    "start_time": "2023-04-05T11:56:51.139Z"
   },
   {
    "duration": 168,
    "start_time": "2023-04-05T11:56:51.361Z"
   },
   {
    "duration": 243,
    "start_time": "2023-04-05T11:56:51.530Z"
   },
   {
    "duration": 184,
    "start_time": "2023-04-05T11:56:51.782Z"
   },
   {
    "duration": 170,
    "start_time": "2023-04-05T11:56:51.968Z"
   },
   {
    "duration": 156,
    "start_time": "2023-04-05T11:56:52.140Z"
   },
   {
    "duration": 4,
    "start_time": "2023-04-05T11:56:52.298Z"
   },
   {
    "duration": 14,
    "start_time": "2023-04-05T11:56:52.303Z"
   },
   {
    "duration": 514,
    "start_time": "2023-04-05T11:56:52.318Z"
   },
   {
    "duration": 474,
    "start_time": "2023-04-05T11:56:52.834Z"
   },
   {
    "duration": 8,
    "start_time": "2023-04-05T11:56:53.309Z"
   },
   {
    "duration": 8,
    "start_time": "2023-04-05T11:56:53.318Z"
   },
   {
    "duration": 297,
    "start_time": "2023-04-05T11:56:53.328Z"
   },
   {
    "duration": 8,
    "start_time": "2023-04-05T11:56:53.626Z"
   },
   {
    "duration": 296,
    "start_time": "2023-04-05T11:56:53.635Z"
   },
   {
    "duration": 12,
    "start_time": "2023-04-05T11:56:53.932Z"
   },
   {
    "duration": 321,
    "start_time": "2023-04-05T11:56:53.946Z"
   },
   {
    "duration": 23,
    "start_time": "2023-04-05T11:56:54.268Z"
   },
   {
    "duration": 250,
    "start_time": "2023-04-05T11:56:54.293Z"
   },
   {
    "duration": 13,
    "start_time": "2023-04-05T11:56:54.546Z"
   },
   {
    "duration": 267,
    "start_time": "2023-04-05T11:56:54.578Z"
   },
   {
    "duration": 20,
    "start_time": "2023-04-05T11:56:54.847Z"
   },
   {
    "duration": 316,
    "start_time": "2023-04-05T11:56:54.869Z"
   },
   {
    "duration": 1475,
    "start_time": "2023-04-05T11:56:55.187Z"
   },
   {
    "duration": 11,
    "start_time": "2023-04-05T11:56:56.685Z"
   },
   {
    "duration": 10,
    "start_time": "2023-04-05T11:56:56.698Z"
   },
   {
    "duration": 1147,
    "start_time": "2023-04-05T11:59:54.745Z"
   },
   {
    "duration": 36,
    "start_time": "2023-04-05T11:59:55.893Z"
   },
   {
    "duration": 14,
    "start_time": "2023-04-05T11:59:55.931Z"
   },
   {
    "duration": 21,
    "start_time": "2023-04-05T11:59:55.947Z"
   },
   {
    "duration": 21,
    "start_time": "2023-04-05T11:59:55.970Z"
   },
   {
    "duration": 43,
    "start_time": "2023-04-05T11:59:55.992Z"
   },
   {
    "duration": 28,
    "start_time": "2023-04-05T11:59:56.037Z"
   },
   {
    "duration": 48,
    "start_time": "2023-04-05T11:59:56.066Z"
   },
   {
    "duration": 18,
    "start_time": "2023-04-05T11:59:56.115Z"
   },
   {
    "duration": 15,
    "start_time": "2023-04-05T11:59:56.135Z"
   },
   {
    "duration": 24,
    "start_time": "2023-04-05T11:59:56.152Z"
   },
   {
    "duration": 17,
    "start_time": "2023-04-05T11:59:56.182Z"
   },
   {
    "duration": 21,
    "start_time": "2023-04-05T11:59:56.201Z"
   },
   {
    "duration": 24,
    "start_time": "2023-04-05T11:59:56.224Z"
   },
   {
    "duration": 39,
    "start_time": "2023-04-05T11:59:56.249Z"
   },
   {
    "duration": 31,
    "start_time": "2023-04-05T11:59:56.289Z"
   },
   {
    "duration": 444,
    "start_time": "2023-04-05T11:59:56.322Z"
   },
   {
    "duration": 424,
    "start_time": "2023-04-05T11:59:56.767Z"
   },
   {
    "duration": 284,
    "start_time": "2023-04-05T11:59:57.193Z"
   },
   {
    "duration": 340,
    "start_time": "2023-04-05T11:59:57.479Z"
   },
   {
    "duration": 4,
    "start_time": "2023-04-05T11:59:57.820Z"
   },
   {
    "duration": 190,
    "start_time": "2023-04-05T11:59:57.825Z"
   },
   {
    "duration": 166,
    "start_time": "2023-04-05T11:59:58.017Z"
   },
   {
    "duration": 237,
    "start_time": "2023-04-05T11:59:58.184Z"
   },
   {
    "duration": 200,
    "start_time": "2023-04-05T11:59:58.423Z"
   },
   {
    "duration": 189,
    "start_time": "2023-04-05T11:59:58.625Z"
   },
   {
    "duration": 137,
    "start_time": "2023-04-05T11:59:58.816Z"
   },
   {
    "duration": 5,
    "start_time": "2023-04-05T11:59:58.955Z"
   },
   {
    "duration": 32,
    "start_time": "2023-04-05T11:59:58.961Z"
   },
   {
    "duration": 522,
    "start_time": "2023-04-05T11:59:58.994Z"
   },
   {
    "duration": 480,
    "start_time": "2023-04-05T11:59:59.517Z"
   },
   {
    "duration": 7,
    "start_time": "2023-04-05T11:59:59.998Z"
   },
   {
    "duration": 20,
    "start_time": "2023-04-05T12:00:00.007Z"
   },
   {
    "duration": 302,
    "start_time": "2023-04-05T12:00:00.028Z"
   },
   {
    "duration": 9,
    "start_time": "2023-04-05T12:00:00.332Z"
   },
   {
    "duration": 356,
    "start_time": "2023-04-05T12:00:00.343Z"
   },
   {
    "duration": 12,
    "start_time": "2023-04-05T12:00:00.701Z"
   },
   {
    "duration": 328,
    "start_time": "2023-04-05T12:00:00.714Z"
   },
   {
    "duration": 13,
    "start_time": "2023-04-05T12:00:01.043Z"
   },
   {
    "duration": 290,
    "start_time": "2023-04-05T12:00:01.057Z"
   },
   {
    "duration": 34,
    "start_time": "2023-04-05T12:00:01.351Z"
   },
   {
    "duration": 249,
    "start_time": "2023-04-05T12:00:01.387Z"
   },
   {
    "duration": 23,
    "start_time": "2023-04-05T12:00:01.637Z"
   },
   {
    "duration": 250,
    "start_time": "2023-04-05T12:00:01.661Z"
   },
   {
    "duration": 1414,
    "start_time": "2023-04-05T12:00:01.912Z"
   },
   {
    "duration": 9,
    "start_time": "2023-04-05T12:00:03.328Z"
   },
   {
    "duration": 192,
    "start_time": "2023-04-05T12:00:03.339Z"
   },
   {
    "duration": 1476,
    "start_time": "2023-04-05T15:32:16.684Z"
   },
   {
    "duration": 79,
    "start_time": "2023-04-05T15:32:19.081Z"
   },
   {
    "duration": 17,
    "start_time": "2023-04-05T15:32:25.679Z"
   },
   {
    "duration": 15,
    "start_time": "2023-04-05T15:32:33.455Z"
   },
   {
    "duration": 5,
    "start_time": "2023-04-05T15:36:18.635Z"
   },
   {
    "duration": 12,
    "start_time": "2023-04-05T15:36:23.401Z"
   },
   {
    "duration": 8,
    "start_time": "2023-04-05T15:39:12.190Z"
   },
   {
    "duration": 8,
    "start_time": "2023-04-05T15:57:21.755Z"
   },
   {
    "duration": 16,
    "start_time": "2023-04-05T15:57:46.254Z"
   },
   {
    "duration": 21,
    "start_time": "2023-04-05T15:58:01.634Z"
   },
   {
    "duration": 208,
    "start_time": "2023-04-05T16:01:04.987Z"
   },
   {
    "duration": 205,
    "start_time": "2023-04-05T16:02:45.922Z"
   },
   {
    "duration": 4,
    "start_time": "2023-04-05T16:05:18.085Z"
   },
   {
    "duration": 13,
    "start_time": "2023-04-05T16:05:19.359Z"
   },
   {
    "duration": 11,
    "start_time": "2023-04-05T16:05:24.242Z"
   },
   {
    "duration": 5,
    "start_time": "2023-04-05T16:05:36.564Z"
   },
   {
    "duration": 10,
    "start_time": "2023-04-05T16:05:44.025Z"
   },
   {
    "duration": 8,
    "start_time": "2023-04-05T16:05:45.214Z"
   },
   {
    "duration": 6,
    "start_time": "2023-04-05T16:05:50.874Z"
   },
   {
    "duration": 14,
    "start_time": "2023-04-05T16:05:51.974Z"
   },
   {
    "duration": 4,
    "start_time": "2023-04-05T16:06:17.083Z"
   },
   {
    "duration": 412,
    "start_time": "2023-04-05T16:06:23.841Z"
   },
   {
    "duration": 505,
    "start_time": "2023-04-05T16:06:32.976Z"
   },
   {
    "duration": 423,
    "start_time": "2023-04-05T16:06:38.936Z"
   },
   {
    "duration": 359,
    "start_time": "2023-04-05T16:06:48.497Z"
   },
   {
    "duration": 4,
    "start_time": "2023-04-05T16:07:09.341Z"
   },
   {
    "duration": 210,
    "start_time": "2023-04-05T16:07:13.423Z"
   },
   {
    "duration": 171,
    "start_time": "2023-04-05T16:07:18.803Z"
   },
   {
    "duration": 287,
    "start_time": "2023-04-05T16:07:23.854Z"
   },
   {
    "duration": 223,
    "start_time": "2023-04-05T16:07:30.956Z"
   },
   {
    "duration": 185,
    "start_time": "2023-04-05T16:07:40.574Z"
   },
   {
    "duration": 164,
    "start_time": "2023-04-05T16:07:46.753Z"
   },
   {
    "duration": 5,
    "start_time": "2023-04-05T16:08:01.359Z"
   },
   {
    "duration": 5,
    "start_time": "2023-04-05T16:08:09.073Z"
   },
   {
    "duration": 797,
    "start_time": "2023-04-05T16:08:12.760Z"
   },
   {
    "duration": 450,
    "start_time": "2023-04-05T16:08:22.834Z"
   },
   {
    "duration": 9,
    "start_time": "2023-04-05T16:08:46.807Z"
   },
   {
    "duration": 1572,
    "start_time": "2023-04-05T16:08:47.577Z"
   },
   {
    "duration": 8,
    "start_time": "2023-04-05T16:08:54.933Z"
   },
   {
    "duration": 4,
    "start_time": "2023-04-05T16:08:55.884Z"
   },
   {
    "duration": 283,
    "start_time": "2023-04-05T16:09:05.716Z"
   },
   {
    "duration": 11,
    "start_time": "2023-04-05T16:09:30.373Z"
   },
   {
    "duration": 294,
    "start_time": "2023-04-05T16:09:40.398Z"
   },
   {
    "duration": 14,
    "start_time": "2023-04-05T16:10:03.105Z"
   },
   {
    "duration": 328,
    "start_time": "2023-04-05T16:10:13.560Z"
   },
   {
    "duration": 15,
    "start_time": "2023-04-05T16:10:35.971Z"
   },
   {
    "duration": 267,
    "start_time": "2023-04-05T16:10:45.044Z"
   },
   {
    "duration": 16,
    "start_time": "2023-04-05T16:11:13.430Z"
   },
   {
    "duration": 315,
    "start_time": "2023-04-05T16:11:26.286Z"
   },
   {
    "duration": 15,
    "start_time": "2023-04-05T16:11:49.254Z"
   },
   {
    "duration": 269,
    "start_time": "2023-04-05T16:11:57.619Z"
   },
   {
    "duration": 1893,
    "start_time": "2023-04-05T16:12:22.183Z"
   },
   {
    "duration": 10,
    "start_time": "2023-04-05T16:12:44.273Z"
   },
   {
    "duration": 10,
    "start_time": "2023-04-05T16:12:54.516Z"
   },
   {
    "duration": 11,
    "start_time": "2023-04-05T16:16:49.411Z"
   },
   {
    "duration": 29,
    "start_time": "2023-04-05T16:17:05.640Z"
   },
   {
    "duration": 5,
    "start_time": "2023-04-05T16:18:04.952Z"
   },
   {
    "duration": 6,
    "start_time": "2023-04-05T16:19:00.264Z"
   },
   {
    "duration": 5,
    "start_time": "2023-04-05T16:20:21.483Z"
   },
   {
    "duration": 19,
    "start_time": "2023-04-05T16:22:25.280Z"
   },
   {
    "duration": 6,
    "start_time": "2023-04-05T16:22:41.767Z"
   },
   {
    "duration": 4,
    "start_time": "2023-04-05T16:23:19.979Z"
   },
   {
    "duration": 5,
    "start_time": "2023-04-05T16:24:06.995Z"
   },
   {
    "duration": 1183,
    "start_time": "2023-04-06T12:24:15.611Z"
   },
   {
    "duration": 152,
    "start_time": "2023-04-06T12:24:16.795Z"
   },
   {
    "duration": 15,
    "start_time": "2023-04-06T12:24:16.949Z"
   },
   {
    "duration": 23,
    "start_time": "2023-04-06T12:24:16.965Z"
   },
   {
    "duration": 3,
    "start_time": "2023-04-06T12:24:16.991Z"
   },
   {
    "duration": 20,
    "start_time": "2023-04-06T12:24:16.995Z"
   },
   {
    "duration": 7,
    "start_time": "2023-04-06T12:24:17.016Z"
   },
   {
    "duration": 21,
    "start_time": "2023-04-06T12:24:17.024Z"
   },
   {
    "duration": 206,
    "start_time": "2023-04-06T12:24:17.046Z"
   },
   {
    "duration": 3,
    "start_time": "2023-04-06T12:24:17.254Z"
   },
   {
    "duration": 34,
    "start_time": "2023-04-06T12:24:17.258Z"
   },
   {
    "duration": 37,
    "start_time": "2023-04-06T12:24:17.293Z"
   },
   {
    "duration": 4,
    "start_time": "2023-04-06T12:24:17.332Z"
   },
   {
    "duration": 17,
    "start_time": "2023-04-06T12:24:17.339Z"
   },
   {
    "duration": 9,
    "start_time": "2023-04-06T12:24:17.357Z"
   },
   {
    "duration": 14,
    "start_time": "2023-04-06T12:24:17.368Z"
   },
   {
    "duration": 16,
    "start_time": "2023-04-06T12:24:17.384Z"
   },
   {
    "duration": 8,
    "start_time": "2023-04-06T12:24:17.402Z"
   },
   {
    "duration": 366,
    "start_time": "2023-04-06T12:24:17.412Z"
   },
   {
    "duration": 485,
    "start_time": "2023-04-06T12:24:17.780Z"
   },
   {
    "duration": 291,
    "start_time": "2023-04-06T12:24:18.267Z"
   },
   {
    "duration": 418,
    "start_time": "2023-04-06T12:24:18.560Z"
   },
   {
    "duration": 4,
    "start_time": "2023-04-06T12:24:18.983Z"
   },
   {
    "duration": 203,
    "start_time": "2023-04-06T12:24:18.989Z"
   },
   {
    "duration": 163,
    "start_time": "2023-04-06T12:24:19.195Z"
   },
   {
    "duration": 249,
    "start_time": "2023-04-06T12:24:19.359Z"
   },
   {
    "duration": 214,
    "start_time": "2023-04-06T12:24:19.609Z"
   },
   {
    "duration": 181,
    "start_time": "2023-04-06T12:24:19.825Z"
   },
   {
    "duration": 153,
    "start_time": "2023-04-06T12:24:20.008Z"
   },
   {
    "duration": 4,
    "start_time": "2023-04-06T12:24:20.163Z"
   },
   {
    "duration": 33,
    "start_time": "2023-04-06T12:24:20.169Z"
   },
   {
    "duration": 595,
    "start_time": "2023-04-06T12:24:20.203Z"
   },
   {
    "duration": 532,
    "start_time": "2023-04-06T12:24:20.800Z"
   },
   {
    "duration": 8,
    "start_time": "2023-04-06T12:24:21.334Z"
   },
   {
    "duration": 23,
    "start_time": "2023-04-06T12:24:21.343Z"
   },
   {
    "duration": 284,
    "start_time": "2023-04-06T12:24:21.368Z"
   },
   {
    "duration": 9,
    "start_time": "2023-04-06T12:24:21.653Z"
   },
   {
    "duration": 282,
    "start_time": "2023-04-06T12:24:21.663Z"
   },
   {
    "duration": 13,
    "start_time": "2023-04-06T12:24:21.947Z"
   },
   {
    "duration": 339,
    "start_time": "2023-04-06T12:24:21.961Z"
   },
   {
    "duration": 13,
    "start_time": "2023-04-06T12:24:22.303Z"
   },
   {
    "duration": 248,
    "start_time": "2023-04-06T12:24:22.317Z"
   },
   {
    "duration": 22,
    "start_time": "2023-04-06T12:24:22.567Z"
   },
   {
    "duration": 272,
    "start_time": "2023-04-06T12:24:22.591Z"
   },
   {
    "duration": 23,
    "start_time": "2023-04-06T12:24:22.865Z"
   },
   {
    "duration": 255,
    "start_time": "2023-04-06T12:24:22.890Z"
   },
   {
    "duration": 1762,
    "start_time": "2023-04-06T12:24:23.146Z"
   },
   {
    "duration": 10,
    "start_time": "2023-04-06T12:24:24.910Z"
   },
   {
    "duration": 47,
    "start_time": "2023-04-06T12:24:24.922Z"
   },
   {
    "duration": 57,
    "start_time": "2023-04-06T12:24:24.970Z"
   },
   {
    "duration": 16,
    "start_time": "2023-04-06T12:24:25.029Z"
   },
   {
    "duration": 33,
    "start_time": "2023-04-06T12:24:25.046Z"
   },
   {
    "duration": 20,
    "start_time": "2023-04-06T12:24:25.081Z"
   },
   {
    "duration": 39,
    "start_time": "2023-04-06T12:24:25.103Z"
   },
   {
    "duration": 7,
    "start_time": "2023-04-06T12:24:25.143Z"
   },
   {
    "duration": 30,
    "start_time": "2023-04-06T12:24:25.151Z"
   },
   {
    "duration": 16,
    "start_time": "2023-04-06T12:24:25.183Z"
   }
  ],
  "kernelspec": {
   "display_name": "Python 3 (ipykernel)",
   "language": "python",
   "name": "python3"
  },
  "language_info": {
   "codemirror_mode": {
    "name": "ipython",
    "version": 3
   },
   "file_extension": ".py",
   "mimetype": "text/x-python",
   "name": "python",
   "nbconvert_exporter": "python",
   "pygments_lexer": "ipython3",
   "version": "3.9.13"
  },
  "toc": {
   "base_numbering": 1,
   "nav_menu": {},
   "number_sections": true,
   "sideBar": true,
   "skip_h1_title": true,
   "title_cell": "Table of Contents",
   "title_sidebar": "Contents",
   "toc_cell": false,
   "toc_position": {},
   "toc_section_display": true,
   "toc_window_display": false
  }
 },
 "nbformat": 4,
 "nbformat_minor": 2
}
